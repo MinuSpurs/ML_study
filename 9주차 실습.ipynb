{
 "cells": [
  {
   "cell_type": "code",
   "execution_count": 1,
   "metadata": {},
   "outputs": [
    {
     "name": "stdout",
     "output_type": "stream",
     "text": [
      "current directory: C:\\Users\\82107\\Desktop\\Study\\ML learning\n"
     ]
    }
   ],
   "source": [
    "import os\n",
    "os.chdir(r'C:\\Users\\82107\\Desktop\\Study\\ML learning')\n",
    "print('current directory:', os.getcwd())"
   ]
  },
  {
   "cell_type": "code",
   "execution_count": 10,
   "metadata": {},
   "outputs": [
    {
     "data": {
      "text/plain": [
       "array([0.87327416, 0.50207813, 0.88248512, 0.89334897, 0.60914609,\n",
       "       0.92359167, 0.4674486 , 0.84339584, 0.56623371, 0.43802193])"
      ]
     },
     "execution_count": 10,
     "metadata": {},
     "output_type": "execute_result"
    }
   ],
   "source": [
    "import numpy as np\n",
    "np.random.seed(1)\n",
    "p = 2\n",
    "lambda_v = 1.5  #tuning parameter를 1.5로 정함\n",
    "true_beta = np.array([[1], [-0.5]])\n",
    "n = 10\n",
    "\n",
    "# predictor 생성\n",
    "x = np.random.normal(0, 1, (n, p))\n",
    "# 확률값을 계산하고 binomial 분포를 이용해 y를 생성\n",
    "prob = 1 / (1 + np.exp(- x @ true_beta))\n",
    "prob = prob.reshape((n,))\n",
    "prob "
   ]
  },
  {
   "cell_type": "code",
   "execution_count": 11,
   "metadata": {},
   "outputs": [
    {
     "data": {
      "text/plain": [
       "array([[1],\n",
       "       [1],\n",
       "       [1],\n",
       "       [1],\n",
       "       [1],\n",
       "       [1],\n",
       "       [1],\n",
       "       [1],\n",
       "       [1],\n",
       "       [1]])"
      ]
     },
     "execution_count": 11,
     "metadata": {},
     "output_type": "execute_result"
    }
   ],
   "source": [
    "tmpN = np.ones(n, dtype='int32')\n",
    "y = np.random.binomial(tmpN, prob, n)\n",
    "y = y.reshape((n,1))\n",
    "y"
   ]
  },
  {
   "cell_type": "code",
   "execution_count": 14,
   "metadata": {},
   "outputs": [
    {
     "data": {
      "text/plain": [
       "array([[0.23463952, 0.        , 0.        , 0.        , 0.        ],\n",
       "       [0.        , 0.21386334, 0.        , 0.        , 0.        ],\n",
       "       [0.        , 0.        , 0.22035374, 0.        , 0.        ],\n",
       "       [0.        , 0.        , 0.        , 0.23547229, 0.        ],\n",
       "       [0.        , 0.        , 0.        , 0.        , 0.24992418]])"
      ]
     },
     "execution_count": 14,
     "metadata": {},
     "output_type": "execute_result"
    }
   ],
   "source": [
    "beta = np.array([.5,.5]).reshape((p,1))\n",
    "prob = 1 / (1 + np.exp(- x @ beta))\n",
    "# 1차 미분\n",
    "grad = np.mean((prob - y) * x, axis=0, keepdims=True).T + 2*lambda_v*beta\n",
    "# 2차 미분\n",
    "D = np.diag((prob * (1 - prob)).reshape(n))\n",
    "D[:5, :5]"
   ]
  },
  {
   "cell_type": "code",
   "execution_count": 13,
   "metadata": {},
   "outputs": [
    {
     "data": {
      "text/plain": [
       "array([[ 3.24626658, -0.18603102],\n",
       "       [-0.18603102,  3.32919247]])"
      ]
     },
     "execution_count": 13,
     "metadata": {},
     "output_type": "execute_result"
    }
   ],
   "source": [
    "H = x.T @ D @ x/n + np.diag(np.repeat(2*lambda_v,p))\n",
    "H"
   ]
  },
  {
   "cell_type": "code",
   "execution_count": 18,
   "metadata": {},
   "outputs": [
    {
     "name": "stdout",
     "output_type": "stream",
     "text": [
      "Iteration 1 beta:\n",
      "[[ 0.0870686 ]\n",
      " [-0.12665486]] \n",
      "\n",
      "Iteration 2 beta:\n",
      "[[ 0.08717758]\n",
      " [-0.126814  ]] \n",
      "\n",
      "Iteration 3 beta:\n",
      "[[ 0.08717758]\n",
      " [-0.126814  ]] \n",
      "\n"
     ]
    }
   ],
   "source": [
    "# initial beta\n",
    "beta = np.zeros((p, 1))\n",
    "for i in range(10):\n",
    "    # 확률, 1차와 2차 미분 계산\n",
    "    prob = 1 / (1 + np.exp(- x @ beta))\n",
    "    grad = np.mean((prob - y) * x, axis=0, keepdims=True).T + 2*lambda_v*beta\n",
    "    D = np.diag((prob * (1 - prob)).reshape(n))\n",
    "    H = x.T @ D @ x/n + np.diag(np.repeat(2*lambda_v,p))\n",
    "    \n",
    "    # beta update\n",
    "    beta_new = beta - np.linalg.inv(H) @ grad\n",
    "    \n",
    "    # stopping rule\n",
    "    if np.sum(np.abs(beta_new - beta)) < 1e-8:\n",
    "        beta = beta_new\n",
    "        print('Iteration {} beta:'.format(i+1))\n",
    "        print(beta, '\\n')\n",
    "        break\n",
    "    else:\n",
    "        beta = beta_new\n",
    "        print('Iteration {} beta:'.format(i+1))\n",
    "        print(beta, '\\n')"
   ]
  },
  {
   "cell_type": "code",
   "execution_count": 20,
   "metadata": {},
   "outputs": [
    {
     "data": {
      "text/plain": [
       "array([[ 0.21586603, -0.50474677],\n",
       "       [ 0.22209361, -0.43823646],\n",
       "       [ 0.21563897, -0.39200335],\n",
       "       [ 0.20577604, -0.35637417],\n",
       "       [ 0.19525398, -0.32748458],\n",
       "       [ 0.18502436, -0.30333821]])"
      ]
     },
     "execution_count": 20,
     "metadata": {},
     "output_type": "execute_result"
    }
   ],
   "source": [
    "# lasso, ridge linear regression\n",
    "# 행렬을 다루기 위한 모듈을 불러온다.\n",
    "import numpy as np\n",
    "# 시각화를 위한 모듈을 불러온다.\n",
    "import matplotlib.pyplot as plt\n",
    "# Ridge와 Lasso를 사용하기위한 모듈을 불러온다.\n",
    "from sklearn.linear_model import lasso_path, Lasso, Ridge\n",
    "\n",
    "# 조율모수(lambda_v) 값 설정\n",
    "n_lambdas = 50\n",
    "lambda_vec = np.linspace(0,100, n_lambdas)\n",
    "# 각 alpha 값에 대하여 Ridge penalty regression 적합(solution path)\n",
    "coefs = []\n",
    "for lambda_v in lambda_vec:\n",
    "    ridge = Ridge(alpha=lambda_v, fit_intercept=False) #intercept가 False라는 것은 상수항은 고려하지 않겠다는 의미(데이터셋에 상수항이 있으면 False로 설정)\n",
    "    ridge.fit(x, y)\n",
    "    coefs.append(ridge.coef_)\n",
    "coefs = np.squeeze(np.array(coefs))\n",
    "coefs[:6, :]"
   ]
  },
  {
   "cell_type": "code",
   "execution_count": 21,
   "metadata": {},
   "outputs": [
    {
     "data": {
      "image/png": "[encoded data removed]",
      "text/plain": [
       "<Figure size 600x300 with 1 Axes>"
      ]
     },
     "metadata": {},
     "output_type": "display_data"
    }
   ],
   "source": [
    "# solution path 시각화\n",
    "plt.figure(figsize=(6, 3))\n",
    "colors = ['b', 'r', 'g']\n",
    "lstyles = ['-', '--', '-.', ':']\n",
    "for i in range(p):\n",
    "    l = plt.plot(lambda_vec, coefs[:, i],   #X축에는 lambda_vec(튜닝 파라미터), Y축에는 I번째 회귀계수의 값\n",
    "                 linestyle=lstyles[i], c=colors[i])\n",
    "plt.xscale('log')\n",
    "plt.axis('tight')\n",
    "plt.show()\n",
    "#Tuning parameter가 커져감에 따라 ridge 회귀분석으로 추정된 회귀계수값이 0쪽으로 모인다는 의미"
   ]
  },
  {
   "cell_type": "code",
   "execution_count": null,
   "metadata": {},
   "outputs": [],
   "source": []
  }
 ],
 "metadata": {
  "kernelspec": {
   "display_name": "Python 3",
   "language": "python",
   "name": "python3"
  },
  "language_info": {
   "codemirror_mode": {
    "name": "ipython",
    "version": 3
   },
   "file_extension": ".py",
   "mimetype": "text/x-python",
   "name": "python",
   "nbconvert_exporter": "python",
   "pygments_lexer": "ipython3",
   "version": "3.9.0"
  }
 },
 "nbformat": 4,
 "nbformat_minor": 2
}

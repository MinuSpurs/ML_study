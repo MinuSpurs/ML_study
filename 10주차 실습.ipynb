{
 "cells": [
  {
   "cell_type": "code",
   "execution_count": 1,
   "metadata": {},
   "outputs": [
    {
     "name": "stdout",
     "output_type": "stream",
     "text": [
      "current directory: C:\\Users\\82107\\Desktop\\Study\\ML learning\n"
     ]
    }
   ],
   "source": [
    "import os\n",
    "os.chdir(r'C:\\Users\\82107\\Desktop\\Study\\ML learning')\n",
    "print('current directory:', os.getcwd())"
   ]
  },
  {
   "cell_type": "code",
   "execution_count": 2,
   "metadata": {},
   "outputs": [
    {
     "data": {
      "text/plain": [
       "array([[ 1.62434536, -0.15323616,  1.14391167],\n",
       "       [-0.61175641, -2.43250851, -1.94991133],\n",
       "       [-0.52817175,  0.50798434, -0.16282888],\n",
       "       [-1.07296862, -0.32403233, -1.1349323 ],\n",
       "       [ 0.86540763, -1.51107661, -1.10709434],\n",
       "       [-2.3015387 , -0.87142207, -1.91265831]])"
      ]
     },
     "execution_count": 2,
     "metadata": {},
     "output_type": "execute_result"
    }
   ],
   "source": [
    "# 행렬을 다루기 위한 모듈을 불러온다.\n",
    "import numpy as np\n",
    "# 시각화를 위한 모듈을 불러온다.\n",
    "import matplotlib.pyplot as plt\n",
    "# Lasso를 사용하기위한 모듈을 불러온다.\n",
    "from sklearn.linear_model import lasso_path\n",
    "\n",
    "# 모형 적합에 사용할 predictor 생성\n",
    "np.random.seed(1)\n",
    "n = 1000    #sample size\n",
    "x1 = np.random.normal(0, 1, (n, 1)) #평균이 0이고 분산이 1인 정규분포\n",
    "x2 = np.random.normal(0, 1, (n, 1))\n",
    "e = np.random.normal(0, 1, (n, 1))\n",
    "x3 = (2/3)*x1 + (2/3)*x2 + (1/3)*e  #x1과 x2에 독립인 확률변수들의 가중합 -> x3가 x1, x2에 correlation이 커짐\n",
    "x = np.hstack((x1, x2, x3)) #x1, x2, x3를 합쳐서 하나의 predictor로 만듬\n",
    "x[:6, :]"
   ]
  },
  {
   "cell_type": "code",
   "execution_count": 4,
   "metadata": {},
   "outputs": [
    {
     "data": {
      "text/plain": [
       "array([[ 2.64861125],\n",
       "       [-8.37939669],\n",
       "       [ 0.77957812],\n",
       "       [-2.34894905],\n",
       "       [-2.2181288 ],\n",
       "       [-5.42875094]])"
      ]
     },
     "execution_count": 4,
     "metadata": {},
     "output_type": "execute_result"
    }
   ],
   "source": [
    "# case 1.\n",
    "beta1 = np.array([[2], [3]])\n",
    "# 모형 적합에 사용할 response variable 생성\n",
    "y = np.hstack((x1, x2)) @ beta1 + np.random.normal(0, 1, (n, 1))\n",
    "y[:6, :]\n",
    "#y는 x1과 x2에만 의존함"
   ]
  },
  {
   "cell_type": "code",
   "execution_count": 11,
   "metadata": {},
   "outputs": [
    {
     "data": {
      "text/plain": [
       "(1, 3, 100)"
      ]
     },
     "execution_count": 11,
     "metadata": {},
     "output_type": "execute_result"
    }
   ],
   "source": [
    "# Lasso penalty regression의 solution path\n",
    "eps = 5e-3\n",
    "lambdas_lasso, coefs_lasso, _ = lasso_path(x, y, \n",
    "                                          eps=eps)\n",
    "coefs_lasso.shape #beta가 3개, lambda가 100개임"
   ]
  },
  {
   "cell_type": "code",
   "execution_count": 12,
   "metadata": {},
   "outputs": [
    {
     "data": {
      "text/plain": [
       "array([0.        , 0.85352138, 1.64703737])"
      ]
     },
     "execution_count": 12,
     "metadata": {},
     "output_type": "execute_result"
    }
   ],
   "source": [
    "coefs_lasso = np.squeeze(coefs_lasso)\n",
    "coefs_lasso[:,20] #lambda가 20일때의 결과\n",
    "\n",
    "#첫 번째 predictor가 중요하지만 선택을 못받았음"
   ]
  },
  {
   "cell_type": "code",
   "execution_count": 13,
   "metadata": {},
   "outputs": [
    {
     "data": {
      "text/plain": [
       "(-0.15238089877976926,\n",
       " 3.5745664467946994,\n",
       " -0.14885218500214423,\n",
       " 3.1258958850450287)"
      ]
     },
     "execution_count": 13,
     "metadata": {},
     "output_type": "execute_result"
    },
    {
     "data": {
      "image/png": "[encoded data removed]",
      "text/plain": [
       "<Figure size 600x300 with 1 Axes>"
      ]
     },
     "metadata": {},
     "output_type": "display_data"
    }
   ],
   "source": [
    "# solution path 시각화\n",
    "plt.figure(figsize=(6, 3))\n",
    "colors = ['b', 'r', 'g']\n",
    "lstyles = ['-', '--', '-.', ':']\n",
    "for coef_l, c, ltype in zip(coefs_lasso, colors, lstyles):\n",
    "    l = plt.plot(lambdas_lasso, coef_l, \n",
    "                 linestyle=ltype, c=c)\n",
    "plt.axis('tight')\n",
    "#beta1과 beta2만 중요하다는 것을 알 수가 없음"
   ]
  },
  {
   "cell_type": "code",
   "execution_count": 14,
   "metadata": {},
   "outputs": [
    {
     "data": {
      "text/plain": [
       "array([[-1.22645397],\n",
       "       [-5.84739325],\n",
       "       [ 2.44238028],\n",
       "       [ 0.63229101],\n",
       "       [-7.06863708],\n",
       "       [ 2.91943858]])"
      ]
     },
     "execution_count": 14,
     "metadata": {},
     "output_type": "execute_result"
    }
   ],
   "source": [
    "# case 2.\n",
    "beta2 = np.array([[-2], [3]])\n",
    "# 모형 적합에 사용할 response variable 생성\n",
    "y = np.hstack((x1, x2)) @ beta2 + np.random.normal(0, 1, (n, 1))\n",
    "y[:6, :]\n"
   ]
  },
  {
   "cell_type": "code",
   "execution_count": 16,
   "metadata": {},
   "outputs": [
    {
     "data": {
      "text/plain": [
       "array([-0.91104367,  1.93286645,  0.        ])"
      ]
     },
     "execution_count": 16,
     "metadata": {},
     "output_type": "execute_result"
    }
   ],
   "source": [
    "# Lasso penalty regression의 solution path\n",
    "eps = 5e-3\n",
    "lambdas_lasso, coefs_lasso, _ = lasso_path(x, y, \n",
    "                                          eps=eps)\n",
    "coefs_lasso = np.squeeze(coefs_lasso)\n",
    "coefs_lasso.shape\n",
    "coefs_lasso[:,20]"
   ]
  },
  {
   "cell_type": "code",
   "execution_count": 17,
   "metadata": {},
   "outputs": [
    {
     "data": {
      "text/plain": [
       "(-0.13831769107434116,\n",
       " 3.244670306263455,\n",
       " -2.266716771218843,\n",
       " 3.188631949870484)"
      ]
     },
     "execution_count": 17,
     "metadata": {},
     "output_type": "execute_result"
    },
    {
     "data": {
      "image/png": "[encoded data removed]",
      "text/plain": [
       "<Figure size 600x300 with 1 Axes>"
      ]
     },
     "metadata": {},
     "output_type": "display_data"
    }
   ],
   "source": [
    "# solution path 시각화\n",
    "plt.figure(figsize=(6, 3))\n",
    "colors = ['b', 'r', 'g']\n",
    "lstyles = ['-', '--', '-.', ':']\n",
    "for coef_l, c, ltype in zip(coefs_lasso, colors, lstyles):\n",
    "    l = plt.plot(lambdas_lasso, coef_l, \n",
    "                 linestyle=ltype, c=c)\n",
    "plt.axis('tight')\n",
    "#세번째 변수는 0으로 남아있음ㅜ"
   ]
  }
 ],
 "metadata": {
  "kernelspec": {
   "display_name": "Python 3",
   "language": "python",
   "name": "python3"
  },
  "language_info": {
   "codemirror_mode": {
    "name": "ipython",
    "version": 3
   },
   "file_extension": ".py",
   "mimetype": "text/x-python",
   "name": "python",
   "nbconvert_exporter": "python",
   "pygments_lexer": "ipython3",
   "version": "3.9.0"
  }
 },
 "nbformat": 4,
 "nbformat_minor": 2
}

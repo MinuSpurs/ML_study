{
 "cells": [
  {
   "cell_type": "code",
   "execution_count": 1,
   "id": "d1909c63",
   "metadata": {},
   "outputs": [
    {
     "name": "stdout",
     "output_type": "stream",
     "text": [
      "current directory: C:\\Users\\82107\\Desktop\\Study\\ML learning\n"
     ]
    }
   ],
   "source": [
    "import os\n",
    "os.chdir(r'C:\\Users\\82107\\Desktop\\Study\\ML learning')\n",
    "print('current directory:', os.getcwd())"
   ]
  },
  {
   "cell_type": "code",
   "execution_count": 2,
   "id": "119296bf",
   "metadata": {},
   "outputs": [
    {
     "data": {
      "text/plain": [
       "200"
      ]
     },
     "execution_count": 2,
     "metadata": {},
     "output_type": "execute_result"
    }
   ],
   "source": [
    "# 행렬을 다루기 위한 모듈을 불러온다.\n",
    "import numpy as np\n",
    "# 데이터를 읽어오기 위한 pandas 모듈을 불러온다.\n",
    "import pandas as pd \n",
    "\n",
    "# csv 파일 형식으로 되어있는 advertising 데이터를 불러온다.\n",
    "advertising = pd.read_csv('Advertising.csv', encoding='cp949', index_col=0)\n",
    "\n",
    "# 데이터의 개수\n",
    "len(advertising)"
   ]
  },
  {
   "cell_type": "code",
   "execution_count": 3,
   "id": "051b3b11",
   "metadata": {},
   "outputs": [
    {
     "data": {
      "text/html": [
       "<div>\n",
       "<style scoped>\n",
       "    .dataframe tbody tr th:only-of-type {\n",
       "        vertical-align: middle;\n",
       "    }\n",
       "\n",
       "    .dataframe tbody tr th {\n",
       "        vertical-align: top;\n",
       "    }\n",
       "\n",
       "    .dataframe thead th {\n",
       "        text-align: right;\n",
       "    }\n",
       "</style>\n",
       "<table border=\"1\" class=\"dataframe\">\n",
       "  <thead>\n",
       "    <tr style=\"text-align: right;\">\n",
       "      <th></th>\n",
       "      <th>TV</th>\n",
       "      <th>radio</th>\n",
       "      <th>newspaper</th>\n",
       "      <th>sales</th>\n",
       "    </tr>\n",
       "  </thead>\n",
       "  <tbody>\n",
       "    <tr>\n",
       "      <th>1</th>\n",
       "      <td>230.1</td>\n",
       "      <td>37.8</td>\n",
       "      <td>69.2</td>\n",
       "      <td>22.1</td>\n",
       "    </tr>\n",
       "    <tr>\n",
       "      <th>2</th>\n",
       "      <td>44.5</td>\n",
       "      <td>39.3</td>\n",
       "      <td>45.1</td>\n",
       "      <td>10.4</td>\n",
       "    </tr>\n",
       "    <tr>\n",
       "      <th>3</th>\n",
       "      <td>17.2</td>\n",
       "      <td>45.9</td>\n",
       "      <td>69.3</td>\n",
       "      <td>9.3</td>\n",
       "    </tr>\n",
       "    <tr>\n",
       "      <th>4</th>\n",
       "      <td>151.5</td>\n",
       "      <td>41.3</td>\n",
       "      <td>58.5</td>\n",
       "      <td>18.5</td>\n",
       "    </tr>\n",
       "    <tr>\n",
       "      <th>5</th>\n",
       "      <td>180.8</td>\n",
       "      <td>10.8</td>\n",
       "      <td>58.4</td>\n",
       "      <td>12.9</td>\n",
       "    </tr>\n",
       "  </tbody>\n",
       "</table>\n",
       "</div>"
      ],
      "text/plain": [
       "      TV  radio  newspaper  sales\n",
       "1  230.1   37.8       69.2   22.1\n",
       "2   44.5   39.3       45.1   10.4\n",
       "3   17.2   45.9       69.3    9.3\n",
       "4  151.5   41.3       58.5   18.5\n",
       "5  180.8   10.8       58.4   12.9"
      ]
     },
     "execution_count": 3,
     "metadata": {},
     "output_type": "execute_result"
    }
   ],
   "source": [
    "# train, validation, test set의 분할\n",
    "train = advertising[:100]\n",
    "train.head()"
   ]
  },
  {
   "cell_type": "code",
   "execution_count": 4,
   "id": "d506777d",
   "metadata": {},
   "outputs": [
    {
     "data": {
      "text/html": [
       "<div>\n",
       "<style scoped>\n",
       "    .dataframe tbody tr th:only-of-type {\n",
       "        vertical-align: middle;\n",
       "    }\n",
       "\n",
       "    .dataframe tbody tr th {\n",
       "        vertical-align: top;\n",
       "    }\n",
       "\n",
       "    .dataframe thead th {\n",
       "        text-align: right;\n",
       "    }\n",
       "</style>\n",
       "<table border=\"1\" class=\"dataframe\">\n",
       "  <thead>\n",
       "    <tr style=\"text-align: right;\">\n",
       "      <th></th>\n",
       "      <th>TV</th>\n",
       "      <th>radio</th>\n",
       "      <th>newspaper</th>\n",
       "      <th>sales</th>\n",
       "    </tr>\n",
       "  </thead>\n",
       "  <tbody>\n",
       "    <tr>\n",
       "      <th>51</th>\n",
       "      <td>199.8</td>\n",
       "      <td>3.1</td>\n",
       "      <td>34.6</td>\n",
       "      <td>11.4</td>\n",
       "    </tr>\n",
       "    <tr>\n",
       "      <th>52</th>\n",
       "      <td>100.4</td>\n",
       "      <td>9.6</td>\n",
       "      <td>3.6</td>\n",
       "      <td>10.7</td>\n",
       "    </tr>\n",
       "    <tr>\n",
       "      <th>53</th>\n",
       "      <td>216.4</td>\n",
       "      <td>41.7</td>\n",
       "      <td>39.6</td>\n",
       "      <td>22.6</td>\n",
       "    </tr>\n",
       "    <tr>\n",
       "      <th>54</th>\n",
       "      <td>182.6</td>\n",
       "      <td>46.2</td>\n",
       "      <td>58.7</td>\n",
       "      <td>21.2</td>\n",
       "    </tr>\n",
       "    <tr>\n",
       "      <th>55</th>\n",
       "      <td>262.7</td>\n",
       "      <td>28.8</td>\n",
       "      <td>15.9</td>\n",
       "      <td>20.2</td>\n",
       "    </tr>\n",
       "  </tbody>\n",
       "</table>\n",
       "</div>"
      ],
      "text/plain": [
       "       TV  radio  newspaper  sales\n",
       "51  199.8    3.1       34.6   11.4\n",
       "52  100.4    9.6        3.6   10.7\n",
       "53  216.4   41.7       39.6   22.6\n",
       "54  182.6   46.2       58.7   21.2\n",
       "55  262.7   28.8       15.9   20.2"
      ]
     },
     "execution_count": 4,
     "metadata": {},
     "output_type": "execute_result"
    }
   ],
   "source": [
    "val = advertising[50:150]\n",
    "val.head()"
   ]
  },
  {
   "cell_type": "code",
   "execution_count": 5,
   "id": "9e25c330",
   "metadata": {},
   "outputs": [
    {
     "data": {
      "text/html": [
       "<div>\n",
       "<style scoped>\n",
       "    .dataframe tbody tr th:only-of-type {\n",
       "        vertical-align: middle;\n",
       "    }\n",
       "\n",
       "    .dataframe tbody tr th {\n",
       "        vertical-align: top;\n",
       "    }\n",
       "\n",
       "    .dataframe thead th {\n",
       "        text-align: right;\n",
       "    }\n",
       "</style>\n",
       "<table border=\"1\" class=\"dataframe\">\n",
       "  <thead>\n",
       "    <tr style=\"text-align: right;\">\n",
       "      <th></th>\n",
       "      <th>TV</th>\n",
       "      <th>radio</th>\n",
       "      <th>newspaper</th>\n",
       "      <th>sales</th>\n",
       "    </tr>\n",
       "  </thead>\n",
       "  <tbody>\n",
       "    <tr>\n",
       "      <th>151</th>\n",
       "      <td>280.7</td>\n",
       "      <td>13.9</td>\n",
       "      <td>37.0</td>\n",
       "      <td>16.1</td>\n",
       "    </tr>\n",
       "    <tr>\n",
       "      <th>152</th>\n",
       "      <td>121.0</td>\n",
       "      <td>8.4</td>\n",
       "      <td>48.7</td>\n",
       "      <td>11.6</td>\n",
       "    </tr>\n",
       "    <tr>\n",
       "      <th>153</th>\n",
       "      <td>197.6</td>\n",
       "      <td>23.3</td>\n",
       "      <td>14.2</td>\n",
       "      <td>16.6</td>\n",
       "    </tr>\n",
       "    <tr>\n",
       "      <th>154</th>\n",
       "      <td>171.3</td>\n",
       "      <td>39.7</td>\n",
       "      <td>37.7</td>\n",
       "      <td>19.0</td>\n",
       "    </tr>\n",
       "    <tr>\n",
       "      <th>155</th>\n",
       "      <td>187.8</td>\n",
       "      <td>21.1</td>\n",
       "      <td>9.5</td>\n",
       "      <td>15.6</td>\n",
       "    </tr>\n",
       "  </tbody>\n",
       "</table>\n",
       "</div>"
      ],
      "text/plain": [
       "        TV  radio  newspaper  sales\n",
       "151  280.7   13.9       37.0   16.1\n",
       "152  121.0    8.4       48.7   11.6\n",
       "153  197.6   23.3       14.2   16.6\n",
       "154  171.3   39.7       37.7   19.0\n",
       "155  187.8   21.1        9.5   15.6"
      ]
     },
     "execution_count": 5,
     "metadata": {},
     "output_type": "execute_result"
    }
   ],
   "source": [
    "test = advertising[150:]\n",
    "test.head()\n",
    "\n",
    "#데이터셋의 크기에 맞춰서 랜덤하게 불러오면 됨"
   ]
  },
  {
   "cell_type": "code",
   "execution_count": 6,
   "id": "b3e7db9e",
   "metadata": {},
   "outputs": [
    {
     "data": {
      "text/plain": [
       "['TV',\n",
       " 'radio',\n",
       " 'newspaper',\n",
       " ['TV', 'radio'],\n",
       " ['TV', 'newspaper'],\n",
       " ['radio', 'newspaper'],\n",
       " ['TV', 'radio', 'newspaper']]"
      ]
     },
     "execution_count": 6,
     "metadata": {},
     "output_type": "execute_result"
    }
   ],
   "source": [
    "# Bestsubset Selection에서 사용될 predictor들의 조합을 생성 (모든 변수의 조합들을 고려한 모형 전체)\n",
    "import itertools\n",
    "from copy import deepcopy\n",
    "predictors = ['TV', 'radio', 'newspaper']\n",
    "bestsubset = deepcopy(predictors)\n",
    "for i in range(2, len(predictors)+1):\n",
    "    bestsubset.extend([list(x) for x in list(itertools.combinations(predictors, i))])\n",
    "bestsubset"
   ]
  },
  {
   "cell_type": "code",
   "execution_count": 8,
   "id": "4be779be",
   "metadata": {},
   "outputs": [
    {
     "data": {
      "text/plain": [
       "[22.332072458685033,\n",
       " 40.98359486189848,\n",
       " 72.2655317909861,\n",
       " 4.407420989798702,\n",
       " 16.02429464820829,\n",
       " 36.09094859100722,\n",
       " 4.234901458264232]"
      ]
     },
     "execution_count": 8,
     "metadata": {},
     "output_type": "execute_result"
    }
   ],
   "source": [
    "import statsmodels.api as sm\n",
    "# 7개의 모형의 subset들에 대해서 모형을 적합하고\n",
    "# validation set에 대한 MSE를 계산\n",
    "val_mse = []\n",
    "for i in range(len(bestsubset)):\n",
    "    simple_reg = sm.OLS(train['sales'], train[bestsubset[i]]).fit() #sm.OLS가 linear regression 모델을 적합하는 것임(데이터 적합)\n",
    "    simple_reg_pred = np.array(simple_reg.predict(val[bestsubset[i]]))\n",
    "    mse = (((simple_reg_pred - np.array(val['sales'])) ** 2).sum()) / len(simple_reg_pred) #MSE를 구하는 코드\n",
    "    val_mse.append(mse)\n",
    "val_mse # 이 결과가 validation error임 (여기서 가장 작은 값을 선택하면 됨)"
   ]
  },
  {
   "cell_type": "code",
   "execution_count": 9,
   "id": "8d279c11",
   "metadata": {},
   "outputs": [
    {
     "data": {
      "text/plain": [
       "['TV', 'radio', 'newspaper']"
      ]
     },
     "execution_count": 9,
     "metadata": {},
     "output_type": "execute_result"
    }
   ],
   "source": [
    "# 가장 작은 validation MSE를 가지는 subset을 선택\n",
    "np.argsort(val_mse)[0]\n",
    "min_mse_subset = bestsubset[np.argsort(val_mse)[0]]\n",
    "min_mse_subset "
   ]
  },
  {
   "cell_type": "code",
   "execution_count": 11,
   "id": "f828b831",
   "metadata": {},
   "outputs": [
    {
     "data": {
      "text/plain": [
       "3.6851575325875685"
      ]
     },
     "execution_count": 11,
     "metadata": {},
     "output_type": "execute_result"
    }
   ],
   "source": [
    "# 앞에서 고른 bestsubset를 이용하여 test 데이터에 대한 MSE를 계산\n",
    "best_subset_reg = sm.OLS(train['sales'], train[min_mse_subset]).fit()\n",
    "best_subset_reg_pred = np.array(best_subset_reg.predict(test[min_mse_subset]))\n",
    "test_mse = (((best_subset_reg_pred - np.array(test['sales'])) ** 2).sum()) / len(best_subset_reg_pred)\n",
    "test_mse "
   ]
  },
  {
   "cell_type": "code",
   "execution_count": 14,
   "id": "cbf9a782",
   "metadata": {},
   "outputs": [
    {
     "data": {
      "text/plain": [
       "40"
      ]
     },
     "execution_count": 14,
     "metadata": {},
     "output_type": "execute_result"
    }
   ],
   "source": [
    "advertising = pd.read_csv('Advertising.csv', encoding='cp949', index_col=0) \n",
    "\n",
    "# 5-fold cross validation\n",
    "k = 5\n",
    "# 각 validation set의 크기\n",
    "val_size = int(len(advertising) / k)\n",
    "val_size"
   ]
  },
  {
   "cell_type": "code",
   "execution_count": 15,
   "id": "206a626c",
   "metadata": {},
   "outputs": [
    {
     "data": {
      "text/plain": [
       "array([ 0,  1,  2,  3,  4,  5,  6,  7,  8,  9, 10, 11, 12, 13, 14, 15, 16,\n",
       "       17, 18, 19, 20, 21, 22, 23, 24, 25, 26, 27, 28, 29, 30, 31, 32, 33,\n",
       "       34, 35, 36, 37, 38, 39])"
      ]
     },
     "execution_count": 15,
     "metadata": {},
     "output_type": "execute_result"
    }
   ],
   "source": [
    "predictors = ['TV', 'radio', 'newspaper']\n",
    "# 1개의 validation set을 분할\n",
    "# -> 관측치들의 번호를 분할\n",
    "i = 0\n",
    "idx = np.arange(len(advertising))\n",
    "cv_val_idx = np.arange(i*val_size, (i+1)*val_size)\n",
    "cv_val_idx "
   ]
  },
  {
   "cell_type": "code",
   "execution_count": 16,
   "id": "9d82626d",
   "metadata": {},
   "outputs": [
    {
     "data": {
      "text/plain": [
       "array([ 40,  41,  42,  43,  44,  45,  46,  47,  48,  49,  50,  51,  52,\n",
       "        53,  54,  55,  56,  57,  58,  59,  60,  61,  62,  63,  64,  65,\n",
       "        66,  67,  68,  69,  70,  71,  72,  73,  74,  75,  76,  77,  78,\n",
       "        79,  80,  81,  82,  83,  84,  85,  86,  87,  88,  89,  90,  91,\n",
       "        92,  93,  94,  95,  96,  97,  98,  99, 100, 101, 102, 103, 104,\n",
       "       105, 106, 107, 108, 109, 110, 111, 112, 113, 114, 115, 116, 117,\n",
       "       118, 119, 120, 121, 122, 123, 124, 125, 126, 127, 128, 129, 130,\n",
       "       131, 132, 133, 134, 135, 136, 137, 138, 139, 140, 141, 142, 143,\n",
       "       144, 145, 146, 147, 148, 149, 150, 151, 152, 153, 154, 155, 156,\n",
       "       157, 158, 159, 160, 161, 162, 163, 164, 165, 166, 167, 168, 169,\n",
       "       170, 171, 172, 173, 174, 175, 176, 177, 178, 179, 180, 181, 182,\n",
       "       183, 184, 185, 186, 187, 188, 189, 190, 191, 192, 193, 194, 195,\n",
       "       196, 197, 198, 199])"
      ]
     },
     "execution_count": 16,
     "metadata": {},
     "output_type": "execute_result"
    }
   ],
   "source": [
    "cv_train_idx = np.array([x for x in idx if x not in cv_val_idx])\n",
    "cv_train_idx "
   ]
  },
  {
   "cell_type": "code",
   "execution_count": 17,
   "id": "834588bb",
   "metadata": {},
   "outputs": [
    {
     "data": {
      "text/plain": [
       "4.588441056058844"
      ]
     },
     "execution_count": 17,
     "metadata": {},
     "output_type": "execute_result"
    }
   ],
   "source": [
    "# 1개의 cross-validation set을 이용하여 MSE를 계산\n",
    "reg = sm.OLS(advertising['sales'].iloc[cv_train_idx], # train set을 이용\n",
    "             advertising[predictors].iloc[cv_train_idx]).fit()\n",
    "cv_pred = np.array(reg.predict(advertising[predictors].iloc[cv_val_idx]))\n",
    "mse = (((cv_pred - np.array(advertising['sales'].iloc[cv_val_idx])) ** 2).sum()) / len(cv_pred)\n",
    "mse "
   ]
  },
  {
   "cell_type": "code",
   "execution_count": 19,
   "id": "11095c78",
   "metadata": {},
   "outputs": [
    {
     "data": {
      "text/plain": [
       "[4.588441056058844,\n",
       " 3.819649621611199,\n",
       " 3.5214234286826027,\n",
       " 4.780892181762026,\n",
       " 4.135290964081369]"
      ]
     },
     "execution_count": 19,
     "metadata": {},
     "output_type": "execute_result"
    }
   ],
   "source": [
    "# 모든 5개의 cross-validation set에 대해서 MSE를 계산\n",
    "cv_mse = []\n",
    "for i in range(k):\n",
    "    idx = np.arange(len(advertising))\n",
    "    cv_val_idx = np.arange(i*val_size, (i+1)*val_size)\n",
    "    cv_train_idx = np.array([x for x in idx if x not in cv_val_idx])\n",
    "    reg = sm.OLS(advertising['sales'].iloc[cv_train_idx], \n",
    "                 advertising[predictors].iloc[cv_train_idx]).fit()\n",
    "    cv_pred = np.array(reg.predict(advertising[predictors].iloc[cv_val_idx]))\n",
    "    mse = (((cv_pred - np.array(advertising['sales'].iloc[cv_val_idx])) ** 2).sum()) / len(cv_pred)\n",
    "    cv_mse.append(mse)\n",
    "\n",
    "# 각 cross-validation set들의 MSE 결과\n",
    "cv_mse"
   ]
  },
  {
   "cell_type": "code",
   "execution_count": 20,
   "id": "5d9b9d08",
   "metadata": {},
   "outputs": [
    {
     "data": {
      "text/plain": [
       "4.169139450439208"
      ]
     },
     "execution_count": 20,
     "metadata": {},
     "output_type": "execute_result"
    }
   ],
   "source": [
    "# 5개의 cross-validation MSE의 평균\n",
    "np.sum(cv_mse) / k"
   ]
  }
 ],
 "metadata": {
  "kernelspec": {
   "display_name": "Python 3 (ipykernel)",
   "language": "python",
   "name": "python3"
  },
  "language_info": {
   "codemirror_mode": {
    "name": "ipython",
    "version": 3
   },
   "file_extension": ".py",
   "mimetype": "text/x-python",
   "name": "python",
   "nbconvert_exporter": "python",
   "pygments_lexer": "ipython3",
   "version": "3.10.9"
  }
 },
 "nbformat": 4,
 "nbformat_minor": 5
}

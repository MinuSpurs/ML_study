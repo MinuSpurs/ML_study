{
 "cells": [
  {
   "cell_type": "code",
   "execution_count": 1,
   "metadata": {},
   "outputs": [
    {
     "name": "stdout",
     "output_type": "stream",
     "text": [
      "current directory: C:\\Users\\82107\\Desktop\\Study\\ML learning\n"
     ]
    }
   ],
   "source": [
    "import os\n",
    "os.chdir(r'C:\\Users\\82107\\Desktop\\Study\\ML learning')\n",
    "print('current directory:', os.getcwd())"
   ]
  },
  {
   "cell_type": "code",
   "execution_count": 6,
   "metadata": {},
   "outputs": [
    {
     "name": "stderr",
     "output_type": "stream",
     "text": [
      "c:\\Python\\Python39\\lib\\site-packages\\sklearn\\datasets\\_openml.py:311: UserWarning: Multiple active versions of the dataset matching the name boston exist. Versions may be fundamentally different, returning version 1.\n",
      "  warn(\n",
      "c:\\Python\\Python39\\lib\\site-packages\\sklearn\\datasets\\_openml.py:1022: FutureWarning: The default value of `parser` will change from `'liac-arff'` to `'auto'` in 1.4. You can set `parser='auto'` to silence this warning. Therefore, an `ImportError` will be raised from 1.4 if the dataset is dense and pandas is not installed. Note that the pandas parser may return different data types. See the Notes Section in fetch_openml's API doc for details.\n",
      "  warn(\n"
     ]
    },
    {
     "data": {
      "text/plain": [
       "(506, 13)"
      ]
     },
     "execution_count": 6,
     "metadata": {},
     "output_type": "execute_result"
    }
   ],
   "source": [
    "import tensorflow as tf\n",
    "import tensorflow.keras as K\n",
    "from tensorflow.keras import layers\n",
    "# 행렬을 다루기 위한 모듈을 불러온다.\n",
    "import numpy as np \n",
    "# plot을 그리기 위한 모듈을 불러온다.\n",
    "import matplotlib.pyplot as plt\n",
    "# sklearn으로부터 데이터를 불러온다.\n",
    "import sklearn\n",
    "from sklearn.datasets import fetch_openml\n",
    "\n",
    "boston = fetch_openml(name='boston')\n",
    "\n",
    "x_data, y_data = boston.data, boston.target\n",
    "# data scaling\n",
    "x_data = sklearn.preprocessing.scale(x_data, axis=0)    #표준화를 진행해줌\n",
    "x_data.shape"
   ]
  },
  {
   "cell_type": "code",
   "execution_count": 7,
   "metadata": {},
   "outputs": [
    {
     "data": {
      "text/plain": [
       "(506,)"
      ]
     },
     "execution_count": 7,
     "metadata": {},
     "output_type": "execute_result"
    }
   ],
   "source": [
    "y_data.shape"
   ]
  },
  {
   "cell_type": "code",
   "execution_count": 10,
   "metadata": {},
   "outputs": [
    {
     "data": {
      "text/plain": [
       "<matplotlib.lines.Line2D at 0x1b90a3415e0>"
      ]
     },
     "execution_count": 10,
     "metadata": {},
     "output_type": "execute_result"
    },
    {
     "data": {
      "image/png": "[encoded data removed]",
      "text/plain": [
       "<Figure size 640x480 with 1 Axes>"
      ]
     },
     "metadata": {},
     "output_type": "display_data"
    }
   ],
   "source": [
    "# check function\n",
    "tau = 0.8\n",
    "t = np.linspace(-3, 3, num=100, endpoint=True)\n",
    "plt.plot(t, np.max((tau*t, (tau-1)*t), axis=0), '-', color='blue', linewidth=4)\n",
    "plt.axvline(x=0, linestyle='--', c='black', linewidth=3)"
   ]
  },
  {
   "cell_type": "code",
   "execution_count": 11,
   "metadata": {},
   "outputs": [
    {
     "name": "stdout",
     "output_type": "stream",
     "text": [
      "Model: \"model\"\n",
      "_________________________________________________________________\n",
      " Layer (type)                Output Shape              Param #   \n",
      "=================================================================\n",
      " input_1 (InputLayer)        [(None, 13)]              0         \n",
      "                                                                 \n",
      " dense (Dense)               (None, 5)                 70        \n",
      "                                                                 \n",
      " dense_1 (Dense)             (None, 1)                 6         \n",
      "                                                                 \n",
      "=================================================================\n",
      "Total params: 76 (304.00 Byte)\n",
      "Trainable params: 76 (304.00 Byte)\n",
      "Non-trainable params: 0 (0.00 Byte)\n",
      "_________________________________________________________________\n"
     ]
    }
   ],
   "source": [
    "# 분위수 값 설정\n",
    "tau = 0.2\n",
    "input_layer = layers.Input((x_data.shape[1]))\n",
    "dense_layer1 = layers.Dense(5, activation='sigmoid')\n",
    "x = dense_layer1(input_layer)\n",
    "dense_layer2 = layers.Dense(1, activation='linear')\n",
    "x = dense_layer2(x)\n",
    "\n",
    "model = K.models.Model(input_layer, x)\n",
    "model.summary()"
   ]
  },
  {
   "cell_type": "code",
   "execution_count": 14,
   "metadata": {},
   "outputs": [
    {
     "name": "stdout",
     "output_type": "stream",
     "text": [
      "(0 epoch: loss: 4.54684)\n",
      "(10 epoch: loss: 4.03094)\n",
      "(20 epoch: loss: 3.50634)\n",
      "(30 epoch: loss: 3.14204)\n",
      "(40 epoch: loss: 2.5423)\n",
      "(50 epoch: loss: 1.98785)\n",
      "(60 epoch: loss: 1.48345)\n",
      "(70 epoch: loss: 1.13893)\n",
      "(80 epoch: loss: 1.10319)\n",
      "(90 epoch: loss: 1.26733)\n",
      "(100 epoch: loss: 1.20167)\n",
      "(110 epoch: loss: 0.857206)\n",
      "(120 epoch: loss: 0.938108)\n",
      "(130 epoch: loss: 1.10317)\n",
      "(140 epoch: loss: 0.908184)\n",
      "(150 epoch: loss: 0.843724)\n",
      "(160 epoch: loss: 1.08836)\n",
      "(170 epoch: loss: 0.84798)\n",
      "(180 epoch: loss: 1.20616)\n",
      "(190 epoch: loss: 0.991467)\n",
      "(200 epoch: loss: 1.15939)\n",
      "(210 epoch: loss: 0.838558)\n",
      "(220 epoch: loss: 0.946781)\n",
      "(230 epoch: loss: 0.819768)\n",
      "(240 epoch: loss: 0.861336)\n",
      "(250 epoch: loss: 0.833803)\n",
      "(260 epoch: loss: 0.947504)\n",
      "(270 epoch: loss: 0.929165)\n",
      "(280 epoch: loss: 0.911293)\n",
      "(290 epoch: loss: 0.945565)\n",
      "(300 epoch: loss: 0.978924)\n",
      "(310 epoch: loss: 0.734899)\n",
      "(320 epoch: loss: 0.732095)\n",
      "(330 epoch: loss: 1.05862)\n",
      "(340 epoch: loss: 0.700701)\n",
      "(350 epoch: loss: 0.821317)\n",
      "(360 epoch: loss: 0.898266)\n",
      "(370 epoch: loss: 1.06019)\n",
      "(380 epoch: loss: 0.853391)\n",
      "(390 epoch: loss: 0.726897)\n",
      "(400 epoch: loss: 0.835303)\n",
      "(410 epoch: loss: 0.849276)\n",
      "(420 epoch: loss: 0.708553)\n",
      "(430 epoch: loss: 0.729565)\n",
      "(440 epoch: loss: 0.90122)\n",
      "(450 epoch: loss: 0.660643)\n",
      "(460 epoch: loss: 0.891301)\n",
      "(470 epoch: loss: 0.938993)\n",
      "(480 epoch: loss: 0.810665)\n",
      "(490 epoch: loss: 0.925625)\n"
     ]
    }
   ],
   "source": [
    "optimizer = K.optimizers.SGD(learning_rate=0.5)\n",
    "\n",
    "def quantile_loss(q, y, y_pred):\n",
    "    r = y - y_pred\n",
    "    l = tf.reduce_mean(tf.maximum(tau*r, (tau-1)*r), axis=0, keepdims=False)\n",
    "    return l\n",
    "\n",
    "epochs = 500\n",
    "batch_size = 128\n",
    "for epoch in range(epochs):\n",
    "    idx = np.random.randint(0, len(y_data), batch_size)\n",
    "    x_batch = tf.cast(x_data[idx, :], tf.float32)\n",
    "    y_batch = tf.cast(np.array(y_data[idx])[:, np.newaxis], tf.float32)\n",
    "    \n",
    "    with tf.GradientTape() as tape:\n",
    "        y_hat = model(x_batch)\n",
    "        loss = quantile_loss(tau, y_batch, y_hat)\n",
    "    \n",
    "    grad = tape.gradient(loss, model.weights)   #current solution을 받아오고 loss를 이용하여 gradient를 계산하고 그 gradient를 저장함\n",
    "    optimizer.apply_gradients(zip(grad, model.weights)) #gradient를 model weight에 반영해줌\n",
    "    \n",
    "    if epoch % 10 == 0:\n",
    "        print('({} epoch: loss: {:.6})'.format(epoch, loss.numpy()[0]))"
   ]
  },
  {
   "cell_type": "code",
   "execution_count": null,
   "metadata": {},
   "outputs": [],
   "source": []
  }
 ],
 "metadata": {
  "kernelspec": {
   "display_name": "Python 3",
   "language": "python",
   "name": "python3"
  },
  "language_info": {
   "codemirror_mode": {
    "name": "ipython",
    "version": 3
   },
   "file_extension": ".py",
   "mimetype": "text/x-python",
   "name": "python",
   "nbconvert_exporter": "python",
   "pygments_lexer": "ipython3",
   "version": "3.9.0"
  }
 },
 "nbformat": 4,
 "nbformat_minor": 2
}

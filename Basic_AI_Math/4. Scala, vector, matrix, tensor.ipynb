{
 "cells": [
  {
   "cell_type": "code",
   "execution_count": 1,
   "metadata": {},
   "outputs": [
    {
     "name": "stdout",
     "output_type": "stream",
     "text": [
      "[1 2 3]\n",
      "[-2.4   0.25 -1.3   1.8   0.61]\n"
     ]
    }
   ],
   "source": [
    "import numpy as np\n",
    "\n",
    "a = np.array([1, 2, 3]) # 1차원 배열로 벡터를 나타냄\n",
    "print(a)\n",
    "\n",
    "b = np.array([-2.4, 0.25, -1.3, 1.8, 0.61])\n",
    "print(b)"
   ]
  },
  {
   "cell_type": "code",
   "execution_count": 2,
   "metadata": {},
   "outputs": [
    {
     "name": "stdout",
     "output_type": "stream",
     "text": [
      "[[1 2 3]\n",
      " [4 5 6]]\n",
      "[[ 0.21  0.14]\n",
      " [-1.3   0.81]\n",
      " [ 0.12 -2.1 ]]\n"
     ]
    }
   ],
   "source": [
    "a = np.array([[1, 2, 3],\n",
    "              [4, 5, 6]])   # 2x3 행렬\n",
    "print(a)\n",
    "\n",
    "b = np.array([[0.21, 0.14],\n",
    "              [-1.3, 0.81],\n",
    "              [0.12, -2.1]])    # 3x2 행렬\n",
    "print(b)"
   ]
  },
  {
   "cell_type": "code",
   "execution_count": 3,
   "metadata": {},
   "outputs": [
    {
     "name": "stdout",
     "output_type": "stream",
     "text": [
      "[[[0 1 2 3]\n",
      "  [2 3 4 5]\n",
      "  [4 5 6 7]]\n",
      "\n",
      " [[1 2 3 4]\n",
      "  [3 4 5 6]\n",
      "  [5 6 7 8]]]\n"
     ]
    }
   ],
   "source": [
    "a = np.array([[[0, 1, 2, 3],\n",
    "               [2, 3, 4, 5],\n",
    "               [4, 5, 6, 7]],\n",
    "               [[1, 2, 3, 4],\n",
    "                [3, 4, 5, 6],\n",
    "                [5, 6, 7, 8]]]) # (2, 3, 4)의 3차원 텐서\n",
    "\n",
    "print(a)"
   ]
  },
  {
   "cell_type": "code",
   "execution_count": 4,
   "metadata": {},
   "outputs": [
    {
     "name": "stdout",
     "output_type": "stream",
     "text": [
      "--- dot() 함수 ---\n",
      "10\n",
      "--- 곱의 총합 ---\n",
      "10\n"
     ]
    }
   ],
   "source": [
    "a = np.array([1, 2, 3])\n",
    "b = np.array([3, 2, 1])\n",
    "\n",
    "print('--- dot() 함수 ---')\n",
    "print(np.dot(a, b)) # dot() 함수에 의한 내적\n",
    "print('--- 곱의 총합 ---')\n",
    "print(np.sum(a * b)) # 곱의 총합에 의한 내적"
   ]
  },
  {
   "cell_type": "code",
   "execution_count": 5,
   "metadata": {},
   "outputs": [
    {
     "name": "stdout",
     "output_type": "stream",
     "text": [
      "--- L2놈 ---\n",
      "2.0\n",
      "--- L1놈 ---\n",
      "4.0\n"
     ]
    }
   ],
   "source": [
    "a = np.array([1, 1, -1, -1])\n",
    "\n",
    "print('--- L2놈 ---')\n",
    "print(np.linalg.norm(a))    #L2놈(디폴트)\n",
    "print('--- L1놈 ---')\n",
    "print(np.linalg.norm(a, 1)) #L1놈"
   ]
  },
  {
   "cell_type": "code",
   "execution_count": 6,
   "metadata": {},
   "outputs": [
    {
     "name": "stdout",
     "output_type": "stream",
     "text": [
      "--- 내적 ---\n",
      "8\n",
      "--- L2놈 ---\n",
      "3.0\n",
      "--- L1놈 ---\n",
      "5.0\n"
     ]
    }
   ],
   "source": [
    "a = np.array([1, -2, 2])\n",
    "b = np.array([2, -2, 1])\n",
    "\n",
    "print('--- 내적 ---')\n",
    "print(np.dot(a, b))\n",
    "print('--- L2놈 ---')\n",
    "print(np.linalg.norm(a))\n",
    "print('--- L1놈 ---')\n",
    "print(np.linalg.norm(a, 1))"
   ]
  },
  {
   "cell_type": "code",
   "execution_count": 7,
   "metadata": {},
   "outputs": [
    {
     "name": "stdout",
     "output_type": "stream",
     "text": [
      "[[ 6  3]\n",
      " [12  6]]\n"
     ]
    }
   ],
   "source": [
    "#행렬의 곱\n",
    "\n",
    "a = np.array([[0, 1, 2],\n",
    "             [1, 2, 3]])\n",
    "\n",
    "b = np.array([[2, 1],\n",
    "              [2, 1],\n",
    "              [2, 1]])\n",
    "\n",
    "print(np.dot(a, b))"
   ]
  },
  {
   "cell_type": "code",
   "execution_count": 8,
   "metadata": {},
   "outputs": [
    {
     "name": "stdout",
     "output_type": "stream",
     "text": [
      "[[ 0  1  4]\n",
      " [ 6  0  5]\n",
      " [ 6 14  0]]\n"
     ]
    }
   ],
   "source": [
    "#요소별 곱(아다마르 곱)\n",
    "\n",
    "a = np.array([[0, 1, 2],\n",
    "              [3, 4, 5],\n",
    "              [6, 7, 8]])\n",
    "\n",
    "b = np.array([[0, 1, 2],\n",
    "              [2, 0, 1],\n",
    "              [1, 2, 0]])\n",
    "\n",
    "print(a*b)"
   ]
  },
  {
   "cell_type": "code",
   "execution_count": 10,
   "metadata": {},
   "outputs": [
    {
     "name": "stdout",
     "output_type": "stream",
     "text": [
      "[[ 5  8]\n",
      " [ 8 14]]\n",
      "\n",
      "[[ 0  2  0]\n",
      " [ 6  0 10]\n",
      " [ 0 14  0]]\n"
     ]
    }
   ],
   "source": [
    "a = np.array([[0, 1, 2],\n",
    "              [1, 2, 3]])\n",
    "\n",
    "b = np.array([[0, 1],\n",
    "              [1, 2],\n",
    "              [2, 3]])\n",
    "\n",
    "# 행렬곱\n",
    "print(np.dot(a, b))\n",
    "\n",
    "print()\n",
    "\n",
    "c = np.array([[0, 1, 2],\n",
    "              [3, 4, 5],\n",
    "              [6, 7, 8]])\n",
    "\n",
    "d = np.array([[0, 2, 0],\n",
    "              [2, 0, 2],\n",
    "              [0, 2, 0]])\n",
    "\n",
    "# 아다마르 곱\n",
    "print(c*d)"
   ]
  },
  {
   "cell_type": "code",
   "execution_count": null,
   "metadata": {},
   "outputs": [],
   "source": []
  }
 ],
 "metadata": {
  "kernelspec": {
   "display_name": "Python 3",
   "language": "python",
   "name": "python3"
  },
  "language_info": {
   "codemirror_mode": {
    "name": "ipython",
    "version": 3
   },
   "file_extension": ".py",
   "mimetype": "text/x-python",
   "name": "python",
   "nbconvert_exporter": "python",
   "pygments_lexer": "ipython3",
   "version": "3.9.0"
  }
 },
 "nbformat": 4,
 "nbformat_minor": 2
}

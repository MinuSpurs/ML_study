{
 "cells": [
  {
   "cell_type": "code",
   "execution_count": 1,
   "metadata": {},
   "outputs": [
    {
     "name": "stdout",
     "output_type": "stream",
     "text": [
      "[1 2 3]\n",
      "[-2.4   0.25 -1.3   1.8   0.61]\n"
     ]
    }
   ],
   "source": [
    "import numpy as np\n",
    "\n",
    "a = np.array([1, 2, 3]) # 1차원 배열로 벡터를 나타냄\n",
    "print(a)\n",
    "\n",
    "b = np.array([-2.4, 0.25, -1.3, 1.8, 0.61])\n",
    "print(b)"
   ]
  },
  {
   "cell_type": "code",
   "execution_count": 2,
   "metadata": {},
   "outputs": [
    {
     "name": "stdout",
     "output_type": "stream",
     "text": [
      "[[1 2 3]\n",
      " [4 5 6]]\n",
      "[[ 0.21  0.14]\n",
      " [-1.3   0.81]\n",
      " [ 0.12 -2.1 ]]\n"
     ]
    }
   ],
   "source": [
    "a = np.array([[1, 2, 3],\n",
    "              [4, 5, 6]])   # 2x3 행렬\n",
    "print(a)\n",
    "\n",
    "b = np.array([[0.21, 0.14],\n",
    "              [-1.3, 0.81],\n",
    "              [0.12, -2.1]])    # 3x2 행렬\n",
    "print(b)"
   ]
  },
  {
   "cell_type": "code",
   "execution_count": 3,
   "metadata": {},
   "outputs": [
    {
     "name": "stdout",
     "output_type": "stream",
     "text": [
      "[[[0 1 2 3]\n",
      "  [2 3 4 5]\n",
      "  [4 5 6 7]]\n",
      "\n",
      " [[1 2 3 4]\n",
      "  [3 4 5 6]\n",
      "  [5 6 7 8]]]\n"
     ]
    }
   ],
   "source": [
    "a = np.array([[[0, 1, 2, 3],\n",
    "               [2, 3, 4, 5],\n",
    "               [4, 5, 6, 7]],\n",
    "               [[1, 2, 3, 4],\n",
    "                [3, 4, 5, 6],\n",
    "                [5, 6, 7, 8]]]) # (2, 3, 4)의 3차원 텐서\n",
    "\n",
    "print(a)"
   ]
  },
  {
   "cell_type": "code",
   "execution_count": 4,
   "metadata": {},
   "outputs": [
    {
     "name": "stdout",
     "output_type": "stream",
     "text": [
      "--- dot() 함수 ---\n",
      "10\n",
      "--- 곱의 총합 ---\n",
      "10\n"
     ]
    }
   ],
   "source": [
    "a = np.array([1, 2, 3])\n",
    "b = np.array([3, 2, 1])\n",
    "\n",
    "print('--- dot() 함수 ---')\n",
    "print(np.dot(a, b)) # dot() 함수에 의한 내적\n",
    "print('--- 곱의 총합 ---')\n",
    "print(np.sum(a * b)) # 곱의 총합에 의한 내적"
   ]
  },
  {
   "cell_type": "code",
   "execution_count": 5,
   "metadata": {},
   "outputs": [
    {
     "name": "stdout",
     "output_type": "stream",
     "text": [
      "--- L2놈 ---\n",
      "2.0\n",
      "--- L1놈 ---\n",
      "4.0\n"
     ]
    }
   ],
   "source": [
    "a = np.array([1, 1, -1, -1])\n",
    "\n",
    "print('--- L2놈 ---')\n",
    "print(np.linalg.norm(a))    #L2놈(디폴트)\n",
    "print('--- L1놈 ---')\n",
    "print(np.linalg.norm(a, 1)) #L1놈"
   ]
  },
  {
   "cell_type": "code",
   "execution_count": 6,
   "metadata": {},
   "outputs": [
    {
     "name": "stdout",
     "output_type": "stream",
     "text": [
      "--- 내적 ---\n",
      "8\n",
      "--- L2놈 ---\n",
      "3.0\n",
      "--- L1놈 ---\n",
      "5.0\n"
     ]
    }
   ],
   "source": [
    "a = np.array([1, -2, 2])\n",
    "b = np.array([2, -2, 1])\n",
    "\n",
    "print('--- 내적 ---')\n",
    "print(np.dot(a, b))\n",
    "print('--- L2놈 ---')\n",
    "print(np.linalg.norm(a))\n",
    "print('--- L1놈 ---')\n",
    "print(np.linalg.norm(a, 1))"
   ]
  },
  {
   "cell_type": "code",
   "execution_count": 7,
   "metadata": {},
   "outputs": [
    {
     "name": "stdout",
     "output_type": "stream",
     "text": [
      "[[ 6  3]\n",
      " [12  6]]\n"
     ]
    }
   ],
   "source": [
    "#행렬의 곱\n",
    "\n",
    "a = np.array([[0, 1, 2],\n",
    "             [1, 2, 3]])\n",
    "\n",
    "b = np.array([[2, 1],\n",
    "              [2, 1],\n",
    "              [2, 1]])\n",
    "\n",
    "print(np.dot(a, b))"
   ]
  },
  {
   "cell_type": "code",
   "execution_count": 8,
   "metadata": {},
   "outputs": [
    {
     "name": "stdout",
     "output_type": "stream",
     "text": [
      "[[ 0  1  4]\n",
      " [ 6  0  5]\n",
      " [ 6 14  0]]\n"
     ]
    }
   ],
   "source": [
    "#요소별 곱(아다마르 곱)\n",
    "\n",
    "a = np.array([[0, 1, 2],\n",
    "              [3, 4, 5],\n",
    "              [6, 7, 8]])\n",
    "\n",
    "b = np.array([[0, 1, 2],\n",
    "              [2, 0, 1],\n",
    "              [1, 2, 0]])\n",
    "\n",
    "print(a*b)"
   ]
  },
  {
   "cell_type": "code",
   "execution_count": 10,
   "metadata": {},
   "outputs": [
    {
     "name": "stdout",
     "output_type": "stream",
     "text": [
      "[[ 5  8]\n",
      " [ 8 14]]\n",
      "\n",
      "[[ 0  2  0]\n",
      " [ 6  0 10]\n",
      " [ 0 14  0]]\n"
     ]
    }
   ],
   "source": [
    "a = np.array([[0, 1, 2],\n",
    "              [1, 2, 3]])\n",
    "\n",
    "b = np.array([[0, 1],\n",
    "              [1, 2],\n",
    "              [2, 3]])\n",
    "\n",
    "# 행렬곱\n",
    "print(np.dot(a, b))\n",
    "\n",
    "print()\n",
    "\n",
    "c = np.array([[0, 1, 2],\n",
    "              [3, 4, 5],\n",
    "              [6, 7, 8]])\n",
    "\n",
    "d = np.array([[0, 2, 0],\n",
    "              [2, 0, 2],\n",
    "              [0, 2, 0]])\n",
    "\n",
    "# 아다마르 곱\n",
    "print(c*d)"
   ]
  },
  {
   "cell_type": "code",
   "execution_count": 11,
   "metadata": {},
   "outputs": [
    {
     "name": "stdout",
     "output_type": "stream",
     "text": [
      "[[1 4]\n",
      " [2 5]\n",
      " [3 6]]\n"
     ]
    }
   ],
   "source": [
    "# 행렬 전치\n",
    "\n",
    "a = np.array([[1, 2, 3],\n",
    "              [4, 5, 6]])\n",
    "\n",
    "print(a.T)"
   ]
  },
  {
   "cell_type": "code",
   "execution_count": 12,
   "metadata": {},
   "outputs": [
    {
     "name": "stdout",
     "output_type": "stream",
     "text": [
      "[[ 5  8]\n",
      " [ 8 14]]\n"
     ]
    }
   ],
   "source": [
    "a = np.array([[0, 1, 2],\n",
    "              [1, 2, 3]])\n",
    "\n",
    "b = np.array([[0, 1, 2],\n",
    "              [1, 2, 3]])\n",
    "\n",
    "print(np.dot(a, b.T))"
   ]
  },
  {
   "cell_type": "code",
   "execution_count": 2,
   "metadata": {},
   "outputs": [
    {
     "name": "stdout",
     "output_type": "stream",
     "text": [
      "[[1. 0.]\n",
      " [0. 1.]]\n",
      "\n",
      "[[1. 0. 0.]\n",
      " [0. 1. 0.]\n",
      " [0. 0. 1.]]\n",
      "\n",
      "[[1. 0. 0. 0.]\n",
      " [0. 1. 0. 0.]\n",
      " [0. 0. 1. 0.]\n",
      " [0. 0. 0. 1.]]\n"
     ]
    }
   ],
   "source": [
    "print(np.eye(2))\n",
    "print()\n",
    "print(np.eye(3))\n",
    "print()\n",
    "print(np.eye(4))"
   ]
  },
  {
   "cell_type": "code",
   "execution_count": 3,
   "metadata": {},
   "outputs": [
    {
     "name": "stdout",
     "output_type": "stream",
     "text": [
      "-2.0000000000000004\n",
      "0.0\n"
     ]
    }
   ],
   "source": [
    "a = np.array([[1, 2],\n",
    "              [3, 4]])\n",
    "print(np.linalg.det(a)) # 행렬식이 0이 되지 않는 경우\n",
    "\n",
    "b = np.array([[1, 2],\n",
    "              [0, 0]])\n",
    "print(np.linalg.det(b)) # 행렬식이 0이 되는 경우"
   ]
  },
  {
   "cell_type": "code",
   "execution_count": 4,
   "metadata": {},
   "outputs": [
    {
     "name": "stdout",
     "output_type": "stream",
     "text": [
      "[[-2.   1. ]\n",
      " [ 1.5 -0.5]]\n"
     ]
    }
   ],
   "source": [
    "a = np.array([[1, 2],\n",
    "              [3, 4]])\n",
    "print(np.linalg.inv(a)) # 역행렬"
   ]
  },
  {
   "cell_type": "code",
   "execution_count": 5,
   "metadata": {},
   "outputs": [
    {
     "name": "stdout",
     "output_type": "stream",
     "text": [
      "1.0\n",
      "[[ 2. -1.]\n",
      " [-1.  1.]]\n"
     ]
    }
   ],
   "source": [
    "a = np.array([[1, 1],\n",
    "              [1, 2]])\n",
    "\n",
    "# 행렬식\n",
    "print(np.linalg.det(a))\n",
    "\n",
    "#역행렬\n",
    "print(np.linalg.inv(a))"
   ]
  },
  {
   "cell_type": "code",
   "execution_count": 7,
   "metadata": {},
   "outputs": [
    {
     "data": {
      "image/png": "[encoded data removed]",
      "text/plain": [
       "<Figure size 640x480 with 1 Axes>"
      ]
     },
     "metadata": {},
     "output_type": "display_data"
    }
   ],
   "source": [
    "import matplotlib.pyplot as plt\n",
    "\n",
    "# 화살표를 그리는 함수\n",
    "def arrow(start, size, color):\n",
    "    plt.quiver(start[0], start[1], size[0], size[1], angles='xy', scale_units='xy', scale=1, color=color)\n",
    "\n",
    "# 화살표의 시작점\n",
    "s = np.array([0, 0])\n",
    "\n",
    "# 벡터\n",
    "a = np.array([2, 3])    # 세로 벡터를 나타냄\n",
    "\n",
    "arrow(s, a, color='black')\n",
    "\n",
    "plt.xlim([-3, 3])\n",
    "plt.ylim([-3, 3])\n",
    "plt.xlabel('x', size=14)\n",
    "plt.ylabel('y', size=14)\n",
    "plt.grid()\n",
    "plt.gca().set_aspect('equal')   # 가로세로비를 같게\n",
    "plt.show()\n"
   ]
  },
  {
   "cell_type": "code",
   "execution_count": 8,
   "metadata": {},
   "outputs": [
    {
     "name": "stdout",
     "output_type": "stream",
     "text": [
      "변환 전의 벡터(a): [2 3]\n",
      "변환 후의 벡터(b): [ 1 -2]\n"
     ]
    },
    {
     "data": {
      "image/png": "[encoded data removed]",
      "text/plain": [
       "<Figure size 640x480 with 1 Axes>"
      ]
     },
     "metadata": {},
     "output_type": "display_data"
    }
   ],
   "source": [
    "a = np.array([2, 3])\n",
    "\n",
    "A = np.array([[2, -1],\n",
    "              [2, -2]])\n",
    "\n",
    "b = np.dot(A, a)\n",
    "\n",
    "print('변환 전의 벡터(a):', a)\n",
    "print('변환 후의 벡터(b):', b)\n",
    "\n",
    "def arrow(start, size, color):\n",
    "    plt.quiver(start[0], start[1], size[0], size[1], angles='xy', scale_units='xy', scale=1, color=color)\n",
    "\n",
    "s = np.array([0, 0])\n",
    "\n",
    "arrow(s, a, color='black')\n",
    "arrow(s, b, color='blue')\n",
    "\n",
    "plt.xlim([-3, 3])\n",
    "plt.ylim([-3, 3])\n",
    "plt.xlabel('x', size=14)\n",
    "plt.ylabel('y', size=14)\n",
    "plt.grid()\n",
    "plt.gca().set_aspect('equal')   # 가로세로비를 같게\n",
    "plt.show()"
   ]
  },
  {
   "cell_type": "code",
   "execution_count": 9,
   "metadata": {},
   "outputs": [
    {
     "name": "stdout",
     "output_type": "stream",
     "text": [
      "a: [2 3]\n",
      "e_x: [1 0]\n",
      "e_y: [0 1]\n"
     ]
    },
    {
     "data": {
      "image/png": "[encoded data removed]",
      "text/plain": [
       "<Figure size 640x480 with 1 Axes>"
      ]
     },
     "metadata": {},
     "output_type": "display_data"
    }
   ],
   "source": [
    "a = np.array([2, 3])\n",
    "e_x = np.array([1, 0])  # 표준기저\n",
    "e_y = np.array([0, 1])  # 표준기저\n",
    "\n",
    "print('a:', a)\n",
    "print('e_x:', e_x)\n",
    "print('e_y:', e_y)\n",
    "\n",
    "def arrow(start, size, color):\n",
    "    plt.quiver(start[0], start[1], size[0], size[1], angles='xy', scale_units='xy', scale=1, color=color)\n",
    "\n",
    "s = np.array([0, 0])\n",
    "\n",
    "arrow(s, a, color='blue')\n",
    "arrow(s, e_x, color='black')\n",
    "arrow(s, e_y, color='black')\n",
    "\n",
    "plt.xlim([-3, 3])\n",
    "plt.ylim([-3, 3])\n",
    "plt.xlabel('x', size=14)\n",
    "plt.ylabel('y', size=14)\n",
    "plt.grid()\n",
    "plt.gca().set_aspect('equal')   # 가로세로비를 같게\n",
    "plt.show()"
   ]
  },
  {
   "cell_type": "code",
   "execution_count": 10,
   "metadata": {},
   "outputs": [
    {
     "name": "stdout",
     "output_type": "stream",
     "text": [
      "a: [1 3]\n",
      "b: [-2 -1]\n"
     ]
    },
    {
     "data": {
      "image/png": "[encoded data removed]",
      "text/plain": [
       "<Figure size 640x480 with 1 Axes>"
      ]
     },
     "metadata": {},
     "output_type": "display_data"
    }
   ],
   "source": [
    "a = np.array([1, 3])\n",
    "\n",
    "A = np.array([[1, -1],\n",
    "              [2, -1]])\n",
    "\n",
    "b = np.dot(A, a)\n",
    "\n",
    "print('a:', a)\n",
    "print('b:', b)\n",
    "\n",
    "def arrow(start, size, color):\n",
    "    plt.quiver(start[0], start[1], size[0], size[1], angles='xy', scale_units='xy', scale=1, color=color)\n",
    "\n",
    "s = np.array([0, 0])\n",
    "\n",
    "arrow(s, a, color='black')\n",
    "arrow(s, b, color='blue')\n",
    "\n",
    "plt.xlim([-3, 3])\n",
    "plt.ylim([-3, 3])\n",
    "plt.xlabel('x', size=14)\n",
    "plt.ylabel('y', size=14)\n",
    "plt.grid()\n",
    "plt.gca().set_aspect('equal') \n",
    "plt.show()"
   ]
  },
  {
   "cell_type": "code",
   "execution_count": 11,
   "metadata": {},
   "outputs": [
    {
     "name": "stdout",
     "output_type": "stream",
     "text": [
      "[2. 5.]\n",
      "\n",
      "[[-0.70710678 -0.4472136 ]\n",
      " [ 0.70710678 -0.89442719]]\n"
     ]
    }
   ],
   "source": [
    "a = np.array([[3, 1],\n",
    "              [2, 4]])\n",
    "\n",
    "ev = np.linalg.eig(a)   # 고윳값과 고유벡터를 동시에 구함\n",
    "\n",
    "print(ev[0])    # 첫 요소는 고윳값\n",
    "\n",
    "print()\n",
    "\n",
    "print(ev[1])    # 다음 요소는 고유벡터"
   ]
  },
  {
   "cell_type": "code",
   "execution_count": 12,
   "metadata": {},
   "outputs": [
    {
     "name": "stdout",
     "output_type": "stream",
     "text": [
      "[-1.  2.]\n",
      "\n",
      "[[-0.9701425  -0.70710678]\n",
      " [-0.24253563 -0.70710678]]\n"
     ]
    }
   ],
   "source": [
    "a = np.array([[-2, 4],\n",
    "              [-1, 3]])\n",
    "\n",
    "ev = np.linalg.eig(a)\n",
    "\n",
    "print(ev[0])\n",
    "\n",
    "print()\n",
    "\n",
    "print(ev[1])"
   ]
  },
  {
   "cell_type": "code",
   "execution_count": 14,
   "metadata": {},
   "outputs": [
    {
     "name": "stdout",
     "output_type": "stream",
     "text": [
      "--- a와 b의 코사인 유사도 ---\n",
      "1.0\n",
      "--- a와 c의 코사인 유사도 ---\n",
      "-1.0\n"
     ]
    }
   ],
   "source": [
    "def cos_sim(vec_1, vec_2):\n",
    "    return np.dot(vec_1, vec_2) / (np.linalg.norm(vec_1) * np.linalg.norm(vec_2))\n",
    "\n",
    "a = np.array([2, 2, 2, 2])\n",
    "b = np.array([1, 1, 1, 1])  # a와 같은 방향\n",
    "c = np.array([-1, -1, -1, -1])  # a와 반대 방향\n",
    "\n",
    "print('--- a와 b의 코사인 유사도 ---')\n",
    "print(cos_sim(a, b))\n",
    "\n",
    "print('--- a와 c의 코사인 유사도 ---')\n",
    "print(cos_sim(a, c))"
   ]
  },
  {
   "cell_type": "code",
   "execution_count": 15,
   "metadata": {},
   "outputs": [
    {
     "name": "stdout",
     "output_type": "stream",
     "text": [
      "--- a와 b의 코사인 유사도 ---\n",
      "0.0\n"
     ]
    }
   ],
   "source": [
    "def cos_sim(vec_1, vec_2):\n",
    "    return (np.dot(vec_1, vec_2)) / (np.linalg.norm(vec_1) * np.linalg.norm(vec_2))\n",
    "\n",
    "a = np.array([2, 0, 1, 0])\n",
    "b = np.array([0, 1, 0, 2])  # a와 같은 방향\n",
    "\n",
    "print('--- a와 b의 코사인 유사도 ---')\n",
    "print(cos_sim(a, b))"
   ]
  }
 ],
 "metadata": {
  "kernelspec": {
   "display_name": "Python 3",
   "language": "python",
   "name": "python3"
  },
  "language_info": {
   "codemirror_mode": {
    "name": "ipython",
    "version": 3
   },
   "file_extension": ".py",
   "mimetype": "text/x-python",
   "name": "python",
   "nbconvert_exporter": "python",
   "pygments_lexer": "ipython3",
   "version": "3.9.0"
  }
 },
 "nbformat": 4,
 "nbformat_minor": 2
}

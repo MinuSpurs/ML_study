{
 "cells": [
  {
   "cell_type": "code",
   "execution_count": 5,
   "id": "86df699e",
   "metadata": {},
   "outputs": [
    {
     "name": "stdout",
     "output_type": "stream",
     "text": [
      "current directory: C:\\Users\\82107\\바탕 화면\\Study\\ML learning\n"
     ]
    }
   ],
   "source": [
    "import os\n",
    "os.chdir(r'C:\\Users\\82107\\바탕 화면\\Study\\ML learning')\n",
    "print('current directory:', os.getcwd())"
   ]
  },
  {
   "cell_type": "code",
   "execution_count": 3,
   "id": "04051355",
   "metadata": {},
   "outputs": [
    {
     "data": {
      "text/plain": [
       "array([[ 1.        ,  0.89811432],\n",
       "       [ 1.        , -0.02718075],\n",
       "       [ 1.        ,  2.61593041],\n",
       "       [ 1.        ,  1.29053215],\n",
       "       [ 1.        ,  1.09207876],\n",
       "       [ 1.        , -0.09553763]])"
      ]
     },
     "execution_count": 3,
     "metadata": {},
     "output_type": "execute_result"
    }
   ],
   "source": [
    "import numpy as np\n",
    "# 선형회귀모형을 사용할 수 있는 모듈을 불러온다.\n",
    "import statsmodels.api as sm\n",
    "\n",
    "# 관측치의 개수\n",
    "N = 1000\n",
    "# 정규분포를 이용해 데이터를 생성(N(0, 1) 분포)\n",
    "X = np.random.normal(loc=0, scale=1, size=(N, 1)) #행이 1000개, 열이 1개\n",
    "#회귀모형 적합을 위해 addconstant 실행\n",
    "X = sm.add_constant(X) # 절편(상수항)을 추가(앞에 상수항이 들어감)\n",
    "X[:6, :]"
   ]
  },
  {
   "cell_type": "code",
   "execution_count": 4,
   "id": "bec65946",
   "metadata": {},
   "outputs": [
    {
     "data": {
      "text/plain": [
       "array([[6.00669699],\n",
       "       [2.63681158],\n",
       "       [8.72700583],\n",
       "       [4.98844485],\n",
       "       [5.74804978],\n",
       "       [1.50819393]])"
      ]
     },
     "execution_count": 4,
     "metadata": {},
     "output_type": "execute_result"
    }
   ],
   "source": [
    "epsilon = np.random.normal(loc=0, scale=1, size=(N, 1))\n",
    "\n",
    "# 실제 모형: Y = 2 + 3X + epsilon, @는 행렬의 곱을 의미\n",
    "Y = X @ np.array([[2], [3]]) + epsilon\n",
    "# [2]가 beta 0, [3]이 beta 1이 됨\n",
    "\n",
    "Y[:6, :] #생성된 처음 6개를 살펴보기 위해\n",
    "\n",
    "#회귀모형을 따르는 X, Y 생성"
   ]
  },
  {
   "cell_type": "code",
   "execution_count": 9,
   "id": "78c1b57a",
   "metadata": {},
   "outputs": [
    {
     "data": {
      "text/html": [
       "<table class=\"simpletable\">\n",
       "<caption>OLS Regression Results</caption>\n",
       "<tr>\n",
       "  <th>Dep. Variable:</th>            <td>y</td>        <th>  R-squared:         </th> <td>   0.901</td>\n",
       "</tr>\n",
       "<tr>\n",
       "  <th>Model:</th>                   <td>OLS</td>       <th>  Adj. R-squared:    </th> <td>   0.901</td>\n",
       "</tr>\n",
       "<tr>\n",
       "  <th>Method:</th>             <td>Least Squares</td>  <th>  F-statistic:       </th> <td>   9098.</td>\n",
       "</tr>\n",
       "<tr>\n",
       "  <th>Date:</th>             <td>Tue, 10 Oct 2023</td> <th>  Prob (F-statistic):</th>  <td>  0.00</td> \n",
       "</tr>\n",
       "<tr>\n",
       "  <th>Time:</th>                 <td>22:40:08</td>     <th>  Log-Likelihood:    </th> <td> -1423.8</td>\n",
       "</tr>\n",
       "<tr>\n",
       "  <th>No. Observations:</th>      <td>  1000</td>      <th>  AIC:               </th> <td>   2852.</td>\n",
       "</tr>\n",
       "<tr>\n",
       "  <th>Df Residuals:</th>          <td>   998</td>      <th>  BIC:               </th> <td>   2861.</td>\n",
       "</tr>\n",
       "<tr>\n",
       "  <th>Df Model:</th>              <td>     1</td>      <th>                     </th>     <td> </td>   \n",
       "</tr>\n",
       "<tr>\n",
       "  <th>Covariance Type:</th>      <td>nonrobust</td>    <th>                     </th>     <td> </td>   \n",
       "</tr>\n",
       "</table>\n",
       "<table class=\"simpletable\">\n",
       "<tr>\n",
       "    <td></td>       <th>coef</th>     <th>std err</th>      <th>t</th>      <th>P>|t|</th>  <th>[0.025</th>    <th>0.975]</th>  \n",
       "</tr>\n",
       "<tr>\n",
       "  <th>const</th> <td>    2.0171</td> <td>    0.032</td> <td>   63.402</td> <td> 0.000</td> <td>    1.955</td> <td>    2.079</td>\n",
       "</tr>\n",
       "<tr>\n",
       "  <th>x1</th>    <td>    3.0363</td> <td>    0.032</td> <td>   95.382</td> <td> 0.000</td> <td>    2.974</td> <td>    3.099</td>\n",
       "</tr>\n",
       "</table>\n",
       "<table class=\"simpletable\">\n",
       "<tr>\n",
       "  <th>Omnibus:</th>       <td> 1.094</td> <th>  Durbin-Watson:     </th> <td>   2.061</td>\n",
       "</tr>\n",
       "<tr>\n",
       "  <th>Prob(Omnibus):</th> <td> 0.579</td> <th>  Jarque-Bera (JB):  </th> <td>   1.131</td>\n",
       "</tr>\n",
       "<tr>\n",
       "  <th>Skew:</th>          <td>-0.079</td> <th>  Prob(JB):          </th> <td>   0.568</td>\n",
       "</tr>\n",
       "<tr>\n",
       "  <th>Kurtosis:</th>      <td> 2.955</td> <th>  Cond. No.          </th> <td>    1.02</td>\n",
       "</tr>\n",
       "</table><br/><br/>Notes:<br/>[1] Standard Errors assume that the covariance matrix of the errors is correctly specified."
      ],
      "text/latex": [
       "\\begin{center}\n",
       "\\begin{tabular}{lclc}\n",
       "\\toprule\n",
       "\\textbf{Dep. Variable:}    &        y         & \\textbf{  R-squared:         } &     0.901   \\\\\n",
       "\\textbf{Model:}            &       OLS        & \\textbf{  Adj. R-squared:    } &     0.901   \\\\\n",
       "\\textbf{Method:}           &  Least Squares   & \\textbf{  F-statistic:       } &     9098.   \\\\\n",
       "\\textbf{Date:}             & Tue, 10 Oct 2023 & \\textbf{  Prob (F-statistic):} &     0.00    \\\\\n",
       "\\textbf{Time:}             &     22:40:08     & \\textbf{  Log-Likelihood:    } &   -1423.8   \\\\\n",
       "\\textbf{No. Observations:} &        1000      & \\textbf{  AIC:               } &     2852.   \\\\\n",
       "\\textbf{Df Residuals:}     &         998      & \\textbf{  BIC:               } &     2861.   \\\\\n",
       "\\textbf{Df Model:}         &           1      & \\textbf{                     } &             \\\\\n",
       "\\textbf{Covariance Type:}  &    nonrobust     & \\textbf{                     } &             \\\\\n",
       "\\bottomrule\n",
       "\\end{tabular}\n",
       "\\begin{tabular}{lcccccc}\n",
       "               & \\textbf{coef} & \\textbf{std err} & \\textbf{t} & \\textbf{P$> |$t$|$} & \\textbf{[0.025} & \\textbf{0.975]}  \\\\\n",
       "\\midrule\n",
       "\\textbf{const} &       2.0171  &        0.032     &    63.402  &         0.000        &        1.955    &        2.079     \\\\\n",
       "\\textbf{x1}    &       3.0363  &        0.032     &    95.382  &         0.000        &        2.974    &        3.099     \\\\\n",
       "\\bottomrule\n",
       "\\end{tabular}\n",
       "\\begin{tabular}{lclc}\n",
       "\\textbf{Omnibus:}       &  1.094 & \\textbf{  Durbin-Watson:     } &    2.061  \\\\\n",
       "\\textbf{Prob(Omnibus):} &  0.579 & \\textbf{  Jarque-Bera (JB):  } &    1.131  \\\\\n",
       "\\textbf{Skew:}          & -0.079 & \\textbf{  Prob(JB):          } &    0.568  \\\\\n",
       "\\textbf{Kurtosis:}      &  2.955 & \\textbf{  Cond. No.          } &     1.02  \\\\\n",
       "\\bottomrule\n",
       "\\end{tabular}\n",
       "%\\caption{OLS Regression Results}\n",
       "\\end{center}\n",
       "\n",
       "Notes: \\newline\n",
       " [1] Standard Errors assume that the covariance matrix of the errors is correctly specified."
      ],
      "text/plain": [
       "<class 'statsmodels.iolib.summary.Summary'>\n",
       "\"\"\"\n",
       "                            OLS Regression Results                            \n",
       "==============================================================================\n",
       "Dep. Variable:                      y   R-squared:                       0.901\n",
       "Model:                            OLS   Adj. R-squared:                  0.901\n",
       "Method:                 Least Squares   F-statistic:                     9098.\n",
       "Date:                Tue, 10 Oct 2023   Prob (F-statistic):               0.00\n",
       "Time:                        22:40:08   Log-Likelihood:                -1423.8\n",
       "No. Observations:                1000   AIC:                             2852.\n",
       "Df Residuals:                     998   BIC:                             2861.\n",
       "Df Model:                           1                                         \n",
       "Covariance Type:            nonrobust                                         \n",
       "==============================================================================\n",
       "                 coef    std err          t      P>|t|      [0.025      0.975]\n",
       "------------------------------------------------------------------------------\n",
       "const          2.0171      0.032     63.402      0.000       1.955       2.079\n",
       "x1             3.0363      0.032     95.382      0.000       2.974       3.099\n",
       "==============================================================================\n",
       "Omnibus:                        1.094   Durbin-Watson:                   2.061\n",
       "Prob(Omnibus):                  0.579   Jarque-Bera (JB):                1.131\n",
       "Skew:                          -0.079   Prob(JB):                        0.568\n",
       "Kurtosis:                       2.955   Cond. No.                         1.02\n",
       "==============================================================================\n",
       "\n",
       "Notes:\n",
       "[1] Standard Errors assume that the covariance matrix of the errors is correctly specified.\n",
       "\"\"\""
      ]
     },
     "execution_count": 9,
     "metadata": {},
     "output_type": "execute_result"
    }
   ],
   "source": [
    "#단순회귀모형 적합\n",
    "simple_reg = sm.OLS(Y, X).fit()\n",
    "# 적합 결과 확인\n",
    "simple_reg.summary()\n",
    "\n",
    "#const가 beta0의 햇, x1이 beta1의 햇"
   ]
  },
  {
   "cell_type": "code",
   "execution_count": 10,
   "id": "709be4ab",
   "metadata": {},
   "outputs": [
    {
     "data": {
      "text/plain": [
       "array([1.99914503, 2.99805972])"
      ]
     },
     "execution_count": 10,
     "metadata": {},
     "output_type": "execute_result"
    }
   ],
   "source": [
    "# 관측치의 개수\n",
    "N = 1000\n",
    "# 모형 적합을 반복하는 횟수\n",
    "repeat_num = 1000\n",
    "\n",
    "beta = np.zeros((2, ))\n",
    "for k in range(repeat_num):\n",
    "    # 정규분포를 이용해 데이터를 생성(N(0, 1) 분포)\n",
    "    X = np.random.normal(loc=0, scale=1, size=(N, 1))   \n",
    "    # 절편(상수항)을 추가\n",
    "    X = sm.add_constant(X)\n",
    "    # 정규분포를 이용해 오차항을 생성(N(0, 1) 분포)\n",
    "    epsilon = np.random.normal(loc=0, scale=1, size=(N, 1))\n",
    "    # 실제 모형: Y = 2 + 3X + epsilon\n",
    "    Y = X @ np.array([[2], [3]]) + epsilon\n",
    "    \n",
    "    simple_reg = sm.OLS(Y, X).fit()\n",
    "    beta += simple_reg.params\n",
    "    \n",
    "# 적합된 회귀 계수의 평균을 계산\n",
    "beta /= repeat_num\n",
    "beta\n",
    "\n",
    "#이 beta가 모델의 bias를 계산할 때 사용하는 추정량의 평균"
   ]
  },
  {
   "cell_type": "code",
   "execution_count": 11,
   "id": "f0b3e8fa",
   "metadata": {},
   "outputs": [
    {
     "data": {
      "text/plain": [
       "array([1.99833866, 3.0006771 ])"
      ]
     },
     "execution_count": 11,
     "metadata": {},
     "output_type": "execute_result"
    }
   ],
   "source": [
    "# 관측치의 개수\n",
    "N = 1000\n",
    "# 모형 적합을 반복하는 횟수\n",
    "repeat_num = 1000\n",
    "\n",
    "beta = np.zeros((2, ))\n",
    "for k in range(repeat_num):\n",
    "    # 정규분포를 이용해 데이터를 생성(N(0, 1) 분포)\n",
    "    X = np.random.normal(loc=0, scale=1, size=(N, 1))   \n",
    "    # 절편(상수항)을 추가\n",
    "    X = sm.add_constant(X)\n",
    "    # 정규분포를 이용해 오차항을 생성(N(0, 1) 분포)\n",
    "    epsilon = np.random.normal(loc=0, scale=1, size=(N, 1))\n",
    "    # 실제 모형: Y = 2 + 3X + epsilon\n",
    "    Y = X @ np.array([[2], [3]]) + epsilon\n",
    "    \n",
    "    simple_reg = sm.OLS(Y, X).fit()\n",
    "    beta += simple_reg.params\n",
    "    \n",
    "# 적합된 회귀 계수의 평균을 계산\n",
    "beta /= repeat_num\n",
    "beta\n",
    "#참값은 beta0이 2, beta1이 3이므로 참값과 유사함을 알 수 있음"
   ]
  },
  {
   "cell_type": "code",
   "execution_count": 12,
   "id": "a5b3f1d8",
   "metadata": {},
   "outputs": [
    {
     "data": {
      "text/plain": [
       "array([[  1. , 230.1],\n",
       "       [  1. ,  44.5],\n",
       "       [  1. ,  17.2],\n",
       "       [  1. , 151.5],\n",
       "       [  1. , 180.8],\n",
       "       [  1. ,   8.7]])"
      ]
     },
     "execution_count": 12,
     "metadata": {},
     "output_type": "execute_result"
    }
   ],
   "source": [
    "import pandas as pd\n",
    "\n",
    "advertising = pd.read_csv('advertising.csv', encoding='cp949', index_col=0)\n",
    "# TV 변수를 선택, numpy 행렬로 변환\n",
    "X = np.array(advertising[['TV']])\n",
    "# 절편(상수항)을 추가\n",
    "X = sm.add_constant(X)\n",
    "X[:6, :]\n",
    "#2번째 열은 tv에 관한 광고지출 predictor"
   ]
  },
  {
   "cell_type": "code",
   "execution_count": 13,
   "id": "3d55dfe1",
   "metadata": {},
   "outputs": [
    {
     "data": {
      "text/html": [
       "<table class=\"simpletable\">\n",
       "<caption>OLS Regression Results</caption>\n",
       "<tr>\n",
       "  <th>Dep. Variable:</th>            <td>y</td>        <th>  R-squared:         </th> <td>   0.612</td>\n",
       "</tr>\n",
       "<tr>\n",
       "  <th>Model:</th>                   <td>OLS</td>       <th>  Adj. R-squared:    </th> <td>   0.610</td>\n",
       "</tr>\n",
       "<tr>\n",
       "  <th>Method:</th>             <td>Least Squares</td>  <th>  F-statistic:       </th> <td>   312.1</td>\n",
       "</tr>\n",
       "<tr>\n",
       "  <th>Date:</th>             <td>Tue, 10 Oct 2023</td> <th>  Prob (F-statistic):</th> <td>1.47e-42</td>\n",
       "</tr>\n",
       "<tr>\n",
       "  <th>Time:</th>                 <td>22:54:06</td>     <th>  Log-Likelihood:    </th> <td> -519.05</td>\n",
       "</tr>\n",
       "<tr>\n",
       "  <th>No. Observations:</th>      <td>   200</td>      <th>  AIC:               </th> <td>   1042.</td>\n",
       "</tr>\n",
       "<tr>\n",
       "  <th>Df Residuals:</th>          <td>   198</td>      <th>  BIC:               </th> <td>   1049.</td>\n",
       "</tr>\n",
       "<tr>\n",
       "  <th>Df Model:</th>              <td>     1</td>      <th>                     </th>     <td> </td>   \n",
       "</tr>\n",
       "<tr>\n",
       "  <th>Covariance Type:</th>      <td>nonrobust</td>    <th>                     </th>     <td> </td>   \n",
       "</tr>\n",
       "</table>\n",
       "<table class=\"simpletable\">\n",
       "<tr>\n",
       "    <td></td>       <th>coef</th>     <th>std err</th>      <th>t</th>      <th>P>|t|</th>  <th>[0.025</th>    <th>0.975]</th>  \n",
       "</tr>\n",
       "<tr>\n",
       "  <th>const</th> <td>    7.0326</td> <td>    0.458</td> <td>   15.360</td> <td> 0.000</td> <td>    6.130</td> <td>    7.935</td>\n",
       "</tr>\n",
       "<tr>\n",
       "  <th>x1</th>    <td>    0.0475</td> <td>    0.003</td> <td>   17.668</td> <td> 0.000</td> <td>    0.042</td> <td>    0.053</td>\n",
       "</tr>\n",
       "</table>\n",
       "<table class=\"simpletable\">\n",
       "<tr>\n",
       "  <th>Omnibus:</th>       <td> 0.531</td> <th>  Durbin-Watson:     </th> <td>   1.935</td>\n",
       "</tr>\n",
       "<tr>\n",
       "  <th>Prob(Omnibus):</th> <td> 0.767</td> <th>  Jarque-Bera (JB):  </th> <td>   0.669</td>\n",
       "</tr>\n",
       "<tr>\n",
       "  <th>Skew:</th>          <td>-0.089</td> <th>  Prob(JB):          </th> <td>   0.716</td>\n",
       "</tr>\n",
       "<tr>\n",
       "  <th>Kurtosis:</th>      <td> 2.779</td> <th>  Cond. No.          </th> <td>    338.</td>\n",
       "</tr>\n",
       "</table><br/><br/>Notes:<br/>[1] Standard Errors assume that the covariance matrix of the errors is correctly specified."
      ],
      "text/latex": [
       "\\begin{center}\n",
       "\\begin{tabular}{lclc}\n",
       "\\toprule\n",
       "\\textbf{Dep. Variable:}    &        y         & \\textbf{  R-squared:         } &     0.612   \\\\\n",
       "\\textbf{Model:}            &       OLS        & \\textbf{  Adj. R-squared:    } &     0.610   \\\\\n",
       "\\textbf{Method:}           &  Least Squares   & \\textbf{  F-statistic:       } &     312.1   \\\\\n",
       "\\textbf{Date:}             & Tue, 10 Oct 2023 & \\textbf{  Prob (F-statistic):} &  1.47e-42   \\\\\n",
       "\\textbf{Time:}             &     22:54:06     & \\textbf{  Log-Likelihood:    } &   -519.05   \\\\\n",
       "\\textbf{No. Observations:} &         200      & \\textbf{  AIC:               } &     1042.   \\\\\n",
       "\\textbf{Df Residuals:}     &         198      & \\textbf{  BIC:               } &     1049.   \\\\\n",
       "\\textbf{Df Model:}         &           1      & \\textbf{                     } &             \\\\\n",
       "\\textbf{Covariance Type:}  &    nonrobust     & \\textbf{                     } &             \\\\\n",
       "\\bottomrule\n",
       "\\end{tabular}\n",
       "\\begin{tabular}{lcccccc}\n",
       "               & \\textbf{coef} & \\textbf{std err} & \\textbf{t} & \\textbf{P$> |$t$|$} & \\textbf{[0.025} & \\textbf{0.975]}  \\\\\n",
       "\\midrule\n",
       "\\textbf{const} &       7.0326  &        0.458     &    15.360  &         0.000        &        6.130    &        7.935     \\\\\n",
       "\\textbf{x1}    &       0.0475  &        0.003     &    17.668  &         0.000        &        0.042    &        0.053     \\\\\n",
       "\\bottomrule\n",
       "\\end{tabular}\n",
       "\\begin{tabular}{lclc}\n",
       "\\textbf{Omnibus:}       &  0.531 & \\textbf{  Durbin-Watson:     } &    1.935  \\\\\n",
       "\\textbf{Prob(Omnibus):} &  0.767 & \\textbf{  Jarque-Bera (JB):  } &    0.669  \\\\\n",
       "\\textbf{Skew:}          & -0.089 & \\textbf{  Prob(JB):          } &    0.716  \\\\\n",
       "\\textbf{Kurtosis:}      &  2.779 & \\textbf{  Cond. No.          } &     338.  \\\\\n",
       "\\bottomrule\n",
       "\\end{tabular}\n",
       "%\\caption{OLS Regression Results}\n",
       "\\end{center}\n",
       "\n",
       "Notes: \\newline\n",
       " [1] Standard Errors assume that the covariance matrix of the errors is correctly specified."
      ],
      "text/plain": [
       "<class 'statsmodels.iolib.summary.Summary'>\n",
       "\"\"\"\n",
       "                            OLS Regression Results                            \n",
       "==============================================================================\n",
       "Dep. Variable:                      y   R-squared:                       0.612\n",
       "Model:                            OLS   Adj. R-squared:                  0.610\n",
       "Method:                 Least Squares   F-statistic:                     312.1\n",
       "Date:                Tue, 10 Oct 2023   Prob (F-statistic):           1.47e-42\n",
       "Time:                        22:54:06   Log-Likelihood:                -519.05\n",
       "No. Observations:                 200   AIC:                             1042.\n",
       "Df Residuals:                     198   BIC:                             1049.\n",
       "Df Model:                           1                                         \n",
       "Covariance Type:            nonrobust                                         \n",
       "==============================================================================\n",
       "                 coef    std err          t      P>|t|      [0.025      0.975]\n",
       "------------------------------------------------------------------------------\n",
       "const          7.0326      0.458     15.360      0.000       6.130       7.935\n",
       "x1             0.0475      0.003     17.668      0.000       0.042       0.053\n",
       "==============================================================================\n",
       "Omnibus:                        0.531   Durbin-Watson:                   1.935\n",
       "Prob(Omnibus):                  0.767   Jarque-Bera (JB):                0.669\n",
       "Skew:                          -0.089   Prob(JB):                        0.716\n",
       "Kurtosis:                       2.779   Cond. No.                         338.\n",
       "==============================================================================\n",
       "\n",
       "Notes:\n",
       "[1] Standard Errors assume that the covariance matrix of the errors is correctly specified.\n",
       "\"\"\""
      ]
     },
     "execution_count": 13,
     "metadata": {},
     "output_type": "execute_result"
    }
   ],
   "source": [
    "Y = np.array(advertising[['sales']])\n",
    "Y[:6, :]\n",
    "\n",
    "# 단순회귀모형 적합\n",
    "simple_reg = sm.OLS(Y, X).fit()\n",
    "# 적합 결과 확인\n",
    "simple_reg.summary()\n",
    "\n",
    "#추정 모형 결과를 통해 y hat = 7.0326 + (0.0475 * TV 광고비)임을 알 수 있음"
   ]
  },
  {
   "cell_type": "code",
   "execution_count": 14,
   "id": "77725d3f",
   "metadata": {},
   "outputs": [
    {
     "data": {
      "text/plain": [
       "array([[  1. , 230.1,  37.8,  69.2],\n",
       "       [  1. ,  44.5,  39.3,  45.1],\n",
       "       [  1. ,  17.2,  45.9,  69.3],\n",
       "       [  1. , 151.5,  41.3,  58.5],\n",
       "       [  1. , 180.8,  10.8,  58.4],\n",
       "       [  1. ,   8.7,  48.9,  75. ]])"
      ]
     },
     "execution_count": 14,
     "metadata": {},
     "output_type": "execute_result"
    }
   ],
   "source": [
    "#predictor가 두개 이상일 때\n",
    "import pandas as pd \n",
    "\n",
    "# csv 파일 형식으로 되어있는 mtcars 데이터를 불러온다.\n",
    "advertising = pd.read_csv('advertising.csv', encoding='cp949', index_col=0) \n",
    "# 모든 설명 변수를 선택, numpy 행렬로 변환\n",
    "X = np.array(advertising[['TV', 'radio', 'newspaper']])\n",
    "# 절편(상수항)을 추가\n",
    "X = sm.add_constant(X)\n",
    "X[:6, :]"
   ]
  },
  {
   "cell_type": "code",
   "execution_count": 15,
   "id": "d3b592b2",
   "metadata": {},
   "outputs": [
    {
     "data": {
      "text/html": [
       "<table class=\"simpletable\">\n",
       "<caption>OLS Regression Results</caption>\n",
       "<tr>\n",
       "  <th>Dep. Variable:</th>            <td>y</td>        <th>  R-squared:         </th> <td>   0.897</td>\n",
       "</tr>\n",
       "<tr>\n",
       "  <th>Model:</th>                   <td>OLS</td>       <th>  Adj. R-squared:    </th> <td>   0.896</td>\n",
       "</tr>\n",
       "<tr>\n",
       "  <th>Method:</th>             <td>Least Squares</td>  <th>  F-statistic:       </th> <td>   570.3</td>\n",
       "</tr>\n",
       "<tr>\n",
       "  <th>Date:</th>             <td>Tue, 10 Oct 2023</td> <th>  Prob (F-statistic):</th> <td>1.58e-96</td>\n",
       "</tr>\n",
       "<tr>\n",
       "  <th>Time:</th>                 <td>22:59:47</td>     <th>  Log-Likelihood:    </th> <td> -386.18</td>\n",
       "</tr>\n",
       "<tr>\n",
       "  <th>No. Observations:</th>      <td>   200</td>      <th>  AIC:               </th> <td>   780.4</td>\n",
       "</tr>\n",
       "<tr>\n",
       "  <th>Df Residuals:</th>          <td>   196</td>      <th>  BIC:               </th> <td>   793.6</td>\n",
       "</tr>\n",
       "<tr>\n",
       "  <th>Df Model:</th>              <td>     3</td>      <th>                     </th>     <td> </td>   \n",
       "</tr>\n",
       "<tr>\n",
       "  <th>Covariance Type:</th>      <td>nonrobust</td>    <th>                     </th>     <td> </td>   \n",
       "</tr>\n",
       "</table>\n",
       "<table class=\"simpletable\">\n",
       "<tr>\n",
       "    <td></td>       <th>coef</th>     <th>std err</th>      <th>t</th>      <th>P>|t|</th>  <th>[0.025</th>    <th>0.975]</th>  \n",
       "</tr>\n",
       "<tr>\n",
       "  <th>const</th> <td>    2.9389</td> <td>    0.312</td> <td>    9.422</td> <td> 0.000</td> <td>    2.324</td> <td>    3.554</td>\n",
       "</tr>\n",
       "<tr>\n",
       "  <th>x1</th>    <td>    0.0458</td> <td>    0.001</td> <td>   32.809</td> <td> 0.000</td> <td>    0.043</td> <td>    0.049</td>\n",
       "</tr>\n",
       "<tr>\n",
       "  <th>x2</th>    <td>    0.1885</td> <td>    0.009</td> <td>   21.893</td> <td> 0.000</td> <td>    0.172</td> <td>    0.206</td>\n",
       "</tr>\n",
       "<tr>\n",
       "  <th>x3</th>    <td>   -0.0010</td> <td>    0.006</td> <td>   -0.177</td> <td> 0.860</td> <td>   -0.013</td> <td>    0.011</td>\n",
       "</tr>\n",
       "</table>\n",
       "<table class=\"simpletable\">\n",
       "<tr>\n",
       "  <th>Omnibus:</th>       <td>60.414</td> <th>  Durbin-Watson:     </th> <td>   2.084</td>\n",
       "</tr>\n",
       "<tr>\n",
       "  <th>Prob(Omnibus):</th> <td> 0.000</td> <th>  Jarque-Bera (JB):  </th> <td> 151.241</td>\n",
       "</tr>\n",
       "<tr>\n",
       "  <th>Skew:</th>          <td>-1.327</td> <th>  Prob(JB):          </th> <td>1.44e-33</td>\n",
       "</tr>\n",
       "<tr>\n",
       "  <th>Kurtosis:</th>      <td> 6.332</td> <th>  Cond. No.          </th> <td>    454.</td>\n",
       "</tr>\n",
       "</table><br/><br/>Notes:<br/>[1] Standard Errors assume that the covariance matrix of the errors is correctly specified."
      ],
      "text/latex": [
       "\\begin{center}\n",
       "\\begin{tabular}{lclc}\n",
       "\\toprule\n",
       "\\textbf{Dep. Variable:}    &        y         & \\textbf{  R-squared:         } &     0.897   \\\\\n",
       "\\textbf{Model:}            &       OLS        & \\textbf{  Adj. R-squared:    } &     0.896   \\\\\n",
       "\\textbf{Method:}           &  Least Squares   & \\textbf{  F-statistic:       } &     570.3   \\\\\n",
       "\\textbf{Date:}             & Tue, 10 Oct 2023 & \\textbf{  Prob (F-statistic):} &  1.58e-96   \\\\\n",
       "\\textbf{Time:}             &     22:59:47     & \\textbf{  Log-Likelihood:    } &   -386.18   \\\\\n",
       "\\textbf{No. Observations:} &         200      & \\textbf{  AIC:               } &     780.4   \\\\\n",
       "\\textbf{Df Residuals:}     &         196      & \\textbf{  BIC:               } &     793.6   \\\\\n",
       "\\textbf{Df Model:}         &           3      & \\textbf{                     } &             \\\\\n",
       "\\textbf{Covariance Type:}  &    nonrobust     & \\textbf{                     } &             \\\\\n",
       "\\bottomrule\n",
       "\\end{tabular}\n",
       "\\begin{tabular}{lcccccc}\n",
       "               & \\textbf{coef} & \\textbf{std err} & \\textbf{t} & \\textbf{P$> |$t$|$} & \\textbf{[0.025} & \\textbf{0.975]}  \\\\\n",
       "\\midrule\n",
       "\\textbf{const} &       2.9389  &        0.312     &     9.422  &         0.000        &        2.324    &        3.554     \\\\\n",
       "\\textbf{x1}    &       0.0458  &        0.001     &    32.809  &         0.000        &        0.043    &        0.049     \\\\\n",
       "\\textbf{x2}    &       0.1885  &        0.009     &    21.893  &         0.000        &        0.172    &        0.206     \\\\\n",
       "\\textbf{x3}    &      -0.0010  &        0.006     &    -0.177  &         0.860        &       -0.013    &        0.011     \\\\\n",
       "\\bottomrule\n",
       "\\end{tabular}\n",
       "\\begin{tabular}{lclc}\n",
       "\\textbf{Omnibus:}       & 60.414 & \\textbf{  Durbin-Watson:     } &    2.084  \\\\\n",
       "\\textbf{Prob(Omnibus):} &  0.000 & \\textbf{  Jarque-Bera (JB):  } &  151.241  \\\\\n",
       "\\textbf{Skew:}          & -1.327 & \\textbf{  Prob(JB):          } & 1.44e-33  \\\\\n",
       "\\textbf{Kurtosis:}      &  6.332 & \\textbf{  Cond. No.          } &     454.  \\\\\n",
       "\\bottomrule\n",
       "\\end{tabular}\n",
       "%\\caption{OLS Regression Results}\n",
       "\\end{center}\n",
       "\n",
       "Notes: \\newline\n",
       " [1] Standard Errors assume that the covariance matrix of the errors is correctly specified."
      ],
      "text/plain": [
       "<class 'statsmodels.iolib.summary.Summary'>\n",
       "\"\"\"\n",
       "                            OLS Regression Results                            \n",
       "==============================================================================\n",
       "Dep. Variable:                      y   R-squared:                       0.897\n",
       "Model:                            OLS   Adj. R-squared:                  0.896\n",
       "Method:                 Least Squares   F-statistic:                     570.3\n",
       "Date:                Tue, 10 Oct 2023   Prob (F-statistic):           1.58e-96\n",
       "Time:                        22:59:47   Log-Likelihood:                -386.18\n",
       "No. Observations:                 200   AIC:                             780.4\n",
       "Df Residuals:                     196   BIC:                             793.6\n",
       "Df Model:                           3                                         \n",
       "Covariance Type:            nonrobust                                         \n",
       "==============================================================================\n",
       "                 coef    std err          t      P>|t|      [0.025      0.975]\n",
       "------------------------------------------------------------------------------\n",
       "const          2.9389      0.312      9.422      0.000       2.324       3.554\n",
       "x1             0.0458      0.001     32.809      0.000       0.043       0.049\n",
       "x2             0.1885      0.009     21.893      0.000       0.172       0.206\n",
       "x3            -0.0010      0.006     -0.177      0.860      -0.013       0.011\n",
       "==============================================================================\n",
       "Omnibus:                       60.414   Durbin-Watson:                   2.084\n",
       "Prob(Omnibus):                  0.000   Jarque-Bera (JB):              151.241\n",
       "Skew:                          -1.327   Prob(JB):                     1.44e-33\n",
       "Kurtosis:                       6.332   Cond. No.                         454.\n",
       "==============================================================================\n",
       "\n",
       "Notes:\n",
       "[1] Standard Errors assume that the covariance matrix of the errors is correctly specified.\n",
       "\"\"\""
      ]
     },
     "execution_count": 15,
     "metadata": {},
     "output_type": "execute_result"
    }
   ],
   "source": [
    "# response variable인 'sales'를 numpy 행렬로 변환\n",
    "Y = np.array(advertising[['sales']])\n",
    "Y[:6, :]\n",
    "\n",
    "# 다변량회귀모형 적합\n",
    "multi_reg = sm.OLS(Y, X).fit()\n",
    "# 적합 결과 확인\n",
    "multi_reg.summary()\n",
    "# y hat = 2.9389 + 0.0458*TV + 0.1885*radio - 0.0010*newspaper"
   ]
  },
  {
   "cell_type": "code",
   "execution_count": 18,
   "id": "788883eb",
   "metadata": {},
   "outputs": [
    {
     "data": {
      "text/plain": [
       "array([[ 1.1434812 , -0.2336136 ,  0.56295916,  1.94849086],\n",
       "       [-2.5908859 ,  1.95727645, -1.03350155,  1.31536357],\n",
       "       [-0.14798999, -0.8597184 , -0.88815635,  0.22706742],\n",
       "       [ 1.0183621 ,  0.52599551,  0.63307851,  1.05421471],\n",
       "       [-1.54748408, -1.97772675,  0.28918506,  0.108616  ],\n",
       "       [-0.21939293, -1.57869333,  1.03524165, -0.57749402]])"
      ]
     },
     "execution_count": 18,
     "metadata": {},
     "output_type": "execute_result"
    }
   ],
   "source": [
    "# 관측치의 개수\n",
    "N = 1000\n",
    "# 정규분포를 이용해 데이터를 생성(N(0, 1) 표준정규분포)\n",
    "X = np.random.normal(loc=0, scale=1, size=(N, 4)) #행이 1000개, 열이 4개\n",
    "X[:6, :]"
   ]
  },
  {
   "cell_type": "code",
   "execution_count": 19,
   "id": "2a7bc92f",
   "metadata": {},
   "outputs": [
    {
     "data": {
      "text/plain": [
       "array([[0],\n",
       "       [3],\n",
       "       [1],\n",
       "       [0]])"
      ]
     },
     "execution_count": 19,
     "metadata": {},
     "output_type": "execute_result"
    }
   ],
   "source": [
    "# 실제 회귀 계수\n",
    "beta = np.array([[0], [3], [1], [0]]) # 1번째, 4번째 predictor는 중요하지 않다는 것을 가정, 2번째와 3번째 predictor가 추정하는데 중요\n",
    "beta"
   ]
  },
  {
   "cell_type": "code",
   "execution_count": 20,
   "id": "5c48380e",
   "metadata": {},
   "outputs": [
    {
     "data": {
      "text/plain": [
       "array([[ 1.05457336],\n",
       "       [ 5.44201629],\n",
       "       [-3.40340634],\n",
       "       [ 2.40365259],\n",
       "       [-5.78023801],\n",
       "       [-4.25768218]])"
      ]
     },
     "execution_count": 20,
     "metadata": {},
     "output_type": "execute_result"
    }
   ],
   "source": [
    "# 정규분포를 이용해 오차항을 생성(N(0, 1) 표준정규분포)\n",
    "epsilon = np.random.normal(loc=0, scale=1, size=(N, 1)) #평균이 0 분산이 1인 정규분포\n",
    "# 참 모형: Y = 0*X1 + 3*X2 + 1*X3 + 0*X4 + epsilon\n",
    "Y = X @ beta + epsilon\n",
    "Y[:6, :]\n",
    "#intercept는 고려하지 않음"
   ]
  },
  {
   "cell_type": "code",
   "execution_count": 26,
   "id": "d8993f03",
   "metadata": {},
   "outputs": [
    {
     "data": {
      "text/plain": [
       "[0, 1, 2, 3]"
      ]
     },
     "execution_count": 26,
     "metadata": {},
     "output_type": "execute_result"
    }
   ],
   "source": [
    "# 평가할 후보 변수\n",
    "candidates = list(range(4))\n",
    "candidates"
   ]
  },
  {
   "cell_type": "code",
   "execution_count": 27,
   "id": "80307ac6",
   "metadata": {},
   "outputs": [
    {
     "data": {
      "text/plain": [
       "[5193.464246178239, 3503.3237039473815, 5106.496635240852, 5193.258895008812]"
      ]
     },
     "execution_count": 27,
     "metadata": {},
     "output_type": "execute_result"
    }
   ],
   "source": [
    "# step. 1\n",
    "bic = []\n",
    "for predictor in candidates:\n",
    "    # 회귀모형 적합\n",
    "    reg = sm.OLS(Y, X[:, predictor]).fit()\n",
    "    # BIC 값 저장\n",
    "    bic.append(reg.bic)\n",
    "bic\n",
    "#처음에는 bic 값이 가장 작은 2번째 변수가 모델로 들어와야 함"
   ]
  },
  {
   "cell_type": "code",
   "execution_count": 28,
   "id": "8fac0e8a",
   "metadata": {},
   "outputs": [
    {
     "data": {
      "text/plain": [
       "[0, 2, 3]"
      ]
     },
     "execution_count": 28,
     "metadata": {},
     "output_type": "execute_result"
    }
   ],
   "source": [
    "# BIC 값이 가장 작은 변수를 선택\n",
    "chosen1 = np.argmin(bic)\n",
    "chosen1 \n",
    "\n",
    "# 선택한 변수를 후보에서 제외\n",
    "del candidates[chosen1]\n",
    "candidates"
   ]
  },
  {
   "cell_type": "code",
   "execution_count": 29,
   "id": "40ff31d8",
   "metadata": {},
   "outputs": [
    {
     "data": {
      "text/plain": [
       "[3509.2944069438677, 2824.0378863753663, 3509.5147365679286]"
      ]
     },
     "execution_count": 29,
     "metadata": {},
     "output_type": "execute_result"
    }
   ],
   "source": [
    "# step. 2\n",
    "bic = []\n",
    "for predictor in candidates:\n",
    "    # 선택한 설명 변수를 포함하여 회귀모형 적합\n",
    "    reg = sm.OLS(Y, X[:, [chosen1, predictor]]).fit()\n",
    "    # BIC 값 저장\n",
    "    bic.append(reg.bic)\n",
    "bic\n",
    "#세번째 predictor([2])를 추가했을 때 bic값이 제일 작음"
   ]
  },
  {
   "cell_type": "code",
   "execution_count": 30,
   "id": "f395d7d6",
   "metadata": {},
   "outputs": [
    {
     "data": {
      "text/plain": [
       "[0, 3]"
      ]
     },
     "execution_count": 30,
     "metadata": {},
     "output_type": "execute_result"
    }
   ],
   "source": [
    "chosen2 = np.argmin(bic)\n",
    "chosen2\n",
    "\n",
    "# 선택한 변수를 후보에서 제외\n",
    "del candidates[chosen2]\n",
    "candidates"
   ]
  },
  {
   "cell_type": "code",
   "execution_count": null,
   "id": "e375aaa1",
   "metadata": {},
   "outputs": [],
   "source": [
    "# step. 3\n",
    "bic = []\n",
    "for predictor in candidates:\n",
    "    # 선택한 설명 변수를 포함하여 회귀모형 적합\n",
    "    reg = sm.OLS(Y, X[:, [chosen1, chosen2, predictor]]).fit()\n",
    "    # BIC 값 저장\n",
    "    bic.append(reg.bic)\n",
    "bic\n",
    "\n",
    "#candidate 값이 빈 리스트가 될 때 까지 반복 수행"
   ]
  }
 ],
 "metadata": {
  "kernelspec": {
   "display_name": "Python 3 (ipykernel)",
   "language": "python",
   "name": "python3"
  },
  "language_info": {
   "codemirror_mode": {
    "name": "ipython",
    "version": 3
   },
   "file_extension": ".py",
   "mimetype": "text/x-python",
   "name": "python",
   "nbconvert_exporter": "python",
   "pygments_lexer": "ipython3",
   "version": "3.10.9"
  }
 },
 "nbformat": 4,
 "nbformat_minor": 5
}
